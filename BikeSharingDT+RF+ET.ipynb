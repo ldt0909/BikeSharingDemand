{
 "cells": [
  {
   "cell_type": "code",
   "execution_count": 95,
   "metadata": {
    "collapsed": true
   },
   "outputs": [],
   "source": [
    "import pandas as pd\n",
    "import numpy as np\n",
    "from matplotlib import pyplot as plt \n",
    "%matplotlib inline \n",
    "from sklearn.model_selection import KFold \n",
    "from sklearn.preprocessing import OneHotEncoder\n",
    "import random\n",
    "import statsmodels.api as sm\n",
    "from sklearn.linear_model import LinearRegression\n",
    "from sklearn.ensemble import RandomForestRegressor\n",
    "from sklearn.grid_search import GridSearchCV\n",
    "import math\n",
    "import xgboost as xgb\n",
    "from sklearn import cross_validation\n",
    "from sklearn.cross_validation import train_test_split\n",
    "from sklearn import tree\n",
    "from sklearn.tree import _tree\n",
    "from xgboost.sklearn import XGBRegressor\n",
    "#from sklearn.ensemble import RandomForestClassifier\n",
    "from sklearn.learning_curve import learning_curve\n",
    "from sklearn.metrics import explained_variance_score\n",
    "from sklearn.model_selection import cross_val_score\n"
   ]
  },
  {
   "cell_type": "code",
   "execution_count": 96,
   "metadata": {
    "collapsed": true
   },
   "outputs": [],
   "source": [
    "train_df = pd.read_csv(\"train.csv\", header=0)\n",
    "test_df = pd.read_csv(\"test.csv\", header = 0)\n",
    "# convert datetime column in training data into multiple columns (year/month/day/hour/weekday)\n",
    "dt = pd.to_datetime(train_df[\"datetime\"]) # convert string to datetime type\n",
    "train_df[\"year\"] = dt.map(lambda x: x.year) \n",
    "train_df[\"month\"] = dt.map(lambda x: x.month)\n",
    "train_df[\"day\"] = dt.map(lambda x: x.day)\n",
    "train_df[\"hour\"] = dt.map(lambda x: x.hour)\n",
    "train_df[\"weekday\"] = dt.map(lambda x: x.weekday())\n"
   ]
  },
  {
   "cell_type": "code",
   "execution_count": 97,
   "metadata": {
    "collapsed": false
   },
   "outputs": [
    {
     "data": {
      "text/plain": [
       "(10886, 20)"
      ]
     },
     "execution_count": 97,
     "metadata": {},
     "output_type": "execute_result"
    }
   ],
   "source": [
    "encode_feature = train_df[['season','holiday','workingday','weather']].values\n",
    "enc = OneHotEncoder()\n",
    "encode_result = enc.fit_transform(encode_feature).toarray()\n",
    "features = train_df.drop(['season','holiday','workingday','weather'], axis=1) \n",
    "features = features.drop([\"datetime\", \"temp\", \"casual\", \"registered\",\"count\"], axis=1) \n",
    "encoded_features = np.concatenate([encode_result,features.values], axis = 1)\n",
    "after_encode.shape"
   ]
  },
  {
   "cell_type": "markdown",
   "metadata": {},
   "source": [
    "### Train test split"
   ]
  },
  {
   "cell_type": "code",
   "execution_count": 98,
   "metadata": {
    "collapsed": true
   },
   "outputs": [],
   "source": [
    "train_df['log_count'] = train_df['count'].apply(np.log1p)"
   ]
  },
  {
   "cell_type": "code",
   "execution_count": 99,
   "metadata": {
    "collapsed": true
   },
   "outputs": [],
   "source": [
    "x_train, x_test, y_train, y_test = train_test_split (encoded_features, train_df['count'], test_size = 0.3, random_state = 99)"
   ]
  },
  {
   "cell_type": "code",
   "execution_count": 100,
   "metadata": {
    "collapsed": true
   },
   "outputs": [],
   "source": [
    "x_log_train, x_log_test, y_log_train, y_log_test = train_test_split (encoded_features, train_df['log_count'] , test_size = 0.3, random_state = 99)"
   ]
  },
  {
   "cell_type": "markdown",
   "metadata": {},
   "source": [
    "## Functions"
   ]
  },
  {
   "cell_type": "code",
   "execution_count": 101,
   "metadata": {
    "collapsed": false
   },
   "outputs": [
    {
     "data": {
      "text/plain": [
       "0.56717915832655263"
      ]
     },
     "execution_count": 101,
     "metadata": {},
     "output_type": "execute_result"
    }
   ],
   "source": [
    "# Evaluation\n",
    "def cal_rmsle(pred, actual):\n",
    "    rmlse = np.sqrt(np.mean((np.log(np.array(pred) + 1)- np.log(np.array(actual) + 1))**2))\n",
    "    return rmlse\n",
    "# test example\n",
    "cal_rmsle([1,2,3],[2,6,2])"
   ]
  },
  {
   "cell_type": "code",
   "execution_count": 125,
   "metadata": {
    "collapsed": true
   },
   "outputs": [],
   "source": [
    "def parameterTunning(Model, parameters, X_train, y_train):\n",
    "\n",
    "    clf = GridSearchCV(Model, parameters, cv=5, scoring='r2')\n",
    "    clf.fit(X_train, y_train)\n",
    "\n",
    "    print(\"Best parameters set found on development set:\")   \n",
    "    print(clf.best_estimator_)\n",
    "    print(\"Grid scores on development set:\")\n",
    "\n",
    "    #grid_scores_ returns:\n",
    "    # a dict of parameter settings\n",
    "    # the mean score over the cross-validation folds \n",
    "    # the list of scores for each fold\n",
    "    for params, mean_score, scores in clf.grid_scores_:\n",
    "        print(\"%0.3f (+/-%0.03f) for %r\"\n",
    "              % (mean_score, scores.std() / 2, params))"
   ]
  },
  {
   "cell_type": "markdown",
   "metadata": {},
   "source": [
    "## Decision Tree"
   ]
  },
  {
   "cell_type": "code",
   "execution_count": 103,
   "metadata": {
    "collapsed": false
   },
   "outputs": [
    {
     "name": "stdout",
     "output_type": "stream",
     "text": [
      "Decision tree RMSLE(default): 0.415521257739\n"
     ]
    }
   ],
   "source": [
    "model_dt = tree.DecisionTreeRegressor()\n",
    "model_dt.fit(x_train, y_train)\n",
    "pred_dt = model_dt.predict(x_test)\n",
    "rmsle_dt = cal_rmsle(y_test, pred_dt)\n",
    "print(\"Decision tree RMSLE(default):\",rmsle_dt) "
   ]
  },
  {
   "cell_type": "code",
   "execution_count": 104,
   "metadata": {
    "collapsed": false
   },
   "outputs": [
    {
     "name": "stdout",
     "output_type": "stream",
     "text": [
      "Best parameters set found on development set:\n",
      "DecisionTreeRegressor(criterion='mse', max_depth=None, max_features=None,\n",
      "           max_leaf_nodes=None, min_impurity_split=1e-07,\n",
      "           min_samples_leaf=5, min_samples_split=2,\n",
      "           min_weight_fraction_leaf=0.0, presort=False, random_state=None,\n",
      "           splitter='best')\n",
      "Grid scores on development set:\n",
      "0.864 (+/-0.013) for {'max_depth': 9}\n",
      "0.885 (+/-0.008) for {'max_depth': 10}\n",
      "0.895 (+/-0.006) for {'max_depth': 11}\n",
      "0.891 (+/-0.011) for {'max_depth': 20}\n",
      "0.890 (+/-0.010) for {'max_depth': 25}\n",
      "0.894 (+/-0.008) for {'max_depth': 50}\n",
      "0.890 (+/-0.009) for {'min_samples_leaf': 1}\n",
      "0.901 (+/-0.005) for {'min_samples_leaf': 2}\n",
      "0.907 (+/-0.007) for {'min_samples_leaf': 5}\n",
      "0.892 (+/-0.006) for {'min_samples_leaf': 10}\n",
      "0.806 (+/-0.018) for {'min_samples_leaf': 50}\n",
      "0.732 (+/-0.014) for {'min_samples_leaf': 100}\n",
      "0.889 (+/-0.009) for {'min_samples_split': 2}\n",
      "0.897 (+/-0.008) for {'min_samples_split': 5}\n",
      "0.906 (+/-0.007) for {'min_samples_split': 10}\n",
      "0.884 (+/-0.008) for {'min_samples_split': 50}\n",
      "0.839 (+/-0.010) for {'min_samples_split': 100}\n",
      "0.891 (+/-0.010) for {'presort': True}\n",
      "0.893 (+/-0.008) for {'presort': False}\n",
      "0.891 (+/-0.009) for {'min_weight_fraction_leaf': 0.0}\n",
      "0.512 (+/-0.007) for {'min_weight_fraction_leaf': 0.1}\n",
      "0.368 (+/-0.006) for {'min_weight_fraction_leaf': 0.3}\n",
      "0.169 (+/-0.005) for {'min_weight_fraction_leaf': 0.4}\n",
      "-0.000 (+/-0.000) for {'min_weight_fraction_leaf': 0.5}\n"
     ]
    }
   ],
   "source": [
    "parameters = [\n",
    "    {'max_depth':[9,10,11,20,25,50]},\n",
    "    {'min_samples_leaf':[1,2,5,10,50,100]},\n",
    "    {'min_samples_split':[2,5,10,50,100]},\n",
    "    {'presort':[True, False]},\n",
    "    {'min_weight_fraction_leaf':[0.0, 0.1, 0.3, 0.4, 0.5]}]   \n",
    " \n",
    "parameterTunning(tree.DecisionTreeRegressor(), parameters, x_train, y_train)"
   ]
  },
  {
   "cell_type": "code",
   "execution_count": 106,
   "metadata": {
    "collapsed": false
   },
   "outputs": [
    {
     "name": "stdout",
     "output_type": "stream",
     "text": [
      "Decision tree RMSLE(default): 0.379658948838\n"
     ]
    }
   ],
   "source": [
    "# Best set\n",
    "model_dt = tree.DecisionTreeRegressor(criterion='mse', max_depth=None, max_features=None,\n",
    "           max_leaf_nodes=None, min_impurity_split=1e-07,\n",
    "           min_samples_leaf=1, min_samples_split=10,\n",
    "           min_weight_fraction_leaf=0.0, presort=False, random_state=66,\n",
    "           splitter='best')\n",
    "model_dt.fit(x_train, y_train)\n",
    "pred_dt = model_dt.predict(x_test)\n",
    "rmsle_dt = cal_rmsle(y_test, pred_dt)\n",
    "print(\"Decision tree RMSLE(default):\",rmsle_dt) "
   ]
  },
  {
   "cell_type": "markdown",
   "metadata": {},
   "source": [
    "## Random Forest"
   ]
  },
  {
   "cell_type": "code",
   "execution_count": 107,
   "metadata": {
    "collapsed": false
   },
   "outputs": [
    {
     "name": "stdout",
     "output_type": "stream",
     "text": [
      "Random forest RMSLE(default): 0.333104192715\n"
     ]
    }
   ],
   "source": [
    "model_rf = RandomForestRegressor()\n",
    "model_rf.fit(x_train, y_train)\n",
    "pred_rf = model_rf.predict(x_test)\n",
    "rmsle_rf = cal_rmsle(y_test, pred_rf)\n",
    "print(\"Random forest RMSLE(default):\",rmsle_rf) "
   ]
  },
  {
   "cell_type": "code",
   "execution_count": null,
   "metadata": {
    "collapsed": true
   },
   "outputs": [],
   "source": [
    "# test log\n",
    "model_rf = RandomForestRegressor()\n",
    "model_rf.fit(x_log_train, y_log_train)\n",
    "pred_rf = np.expm1(model_rf.predict(x_log_test))\n",
    "rmsle_rf = cal_rmsle(y_log_test, pred_rf)\n",
    "print(\"Random forest RMSLE(log):\",rmsle_rf) "
   ]
  },
  {
   "cell_type": "code",
   "execution_count": 108,
   "metadata": {
    "collapsed": false
   },
   "outputs": [
    {
     "name": "stdout",
     "output_type": "stream",
     "text": [
      "Best parameters set found on development set:\n",
      "RandomForestRegressor(bootstrap=True, criterion='mse', max_depth=None,\n",
      "           max_features='auto', max_leaf_nodes=None,\n",
      "           min_impurity_split=1e-07, min_samples_leaf=1,\n",
      "           min_samples_split=2, min_weight_fraction_leaf=0.0,\n",
      "           n_estimators=500, n_jobs=1, oob_score=False, random_state=None,\n",
      "           verbose=0, warm_start=False)\n",
      "Grid scores on development set:\n",
      "0.937 (+/-0.004) for {'max_depth': 50}\n",
      "0.938 (+/-0.003) for {'max_depth': 100}\n",
      "0.938 (+/-0.003) for {'max_depth': 500}\n",
      "0.936 (+/-0.003) for {'n_estimators': 10}\n",
      "0.944 (+/-0.003) for {'n_estimators': 50}\n",
      "0.945 (+/-0.003) for {'n_estimators': 100}\n",
      "0.946 (+/-0.003) for {'n_estimators': 200}\n",
      "0.946 (+/-0.003) for {'n_estimators': 500}\n",
      "0.937 (+/-0.004) for {'min_samples_leaf': 1}\n",
      "0.939 (+/-0.002) for {'min_samples_leaf': 2}\n",
      "0.931 (+/-0.005) for {'min_samples_leaf': 5}\n",
      "0.917 (+/-0.003) for {'min_samples_leaf': 10}\n",
      "0.799 (+/-0.007) for {'min_samples_leaf': 50}\n",
      "0.724 (+/-0.005) for {'min_samples_leaf': 100}\n",
      "0.938 (+/-0.002) for {'min_samples_split': 2}\n",
      "0.937 (+/-0.003) for {'min_samples_split': 5}\n",
      "0.936 (+/-0.003) for {'min_samples_split': 10}\n",
      "0.896 (+/-0.005) for {'min_samples_split': 50}\n",
      "0.838 (+/-0.011) for {'min_samples_split': 100}\n",
      "0.937 (+/-0.005) for {'min_weight_fraction_leaf': 0.0}\n",
      "0.520 (+/-0.007) for {'min_weight_fraction_leaf': 0.1}\n",
      "0.400 (+/-0.006) for {'min_weight_fraction_leaf': 0.3}\n",
      "0.171 (+/-0.005) for {'min_weight_fraction_leaf': 0.4}\n",
      "0.009 (+/-0.006) for {'min_weight_fraction_leaf': 0.5}\n"
     ]
    }
   ],
   "source": [
    "parameters = [\n",
    "    {'max_depth':[50,100, 500]}, \n",
    "    {'n_estimators':[10, 50, 100, 200, 500]}, \n",
    "    {'min_samples_leaf':[1,2,5,10,50,100]}, #2\n",
    "    {'min_samples_split':[2,5,10,50,100]}, #10\n",
    "    {'min_weight_fraction_leaf':[0.0, 0.1, 0.3, 0.4, 0.5]}] #0.0    \n",
    "    \n",
    "#Parameter tunning\n",
    "parameterTunning(RandomForestRegressor(), parameters,x_train, y_train)"
   ]
  },
  {
   "cell_type": "code",
   "execution_count": 112,
   "metadata": {
    "collapsed": false
   },
   "outputs": [
    {
     "name": "stdout",
     "output_type": "stream",
     "text": [
      "Random forest RMSLE(best): 0.315217792801\n"
     ]
    }
   ],
   "source": [
    "# Best set   \n",
    "model_rf = RandomForestRegressor(bootstrap=True, criterion='mse', max_depth=None,\n",
    "           max_features='auto', max_leaf_nodes=None,\n",
    "           min_impurity_split=1e-07, min_samples_leaf=1,\n",
    "           min_samples_split=2, min_weight_fraction_leaf=0.0,\n",
    "           n_estimators=500, n_jobs=1, oob_score=False, random_state=66,\n",
    "           verbose=0, warm_start=False)\n",
    "model_rf.fit(x_train, y_train)\n",
    "pred_rf = model_rf.predict(x_test)\n",
    "rmsle_rf = cal_rmsle(y_test, pred_rf)\n",
    "print(\"Random forest RMSLE(best):\",rmsle_rf) "
   ]
  },
  {
   "cell_type": "code",
   "execution_count": 86,
   "metadata": {
    "collapsed": false
   },
   "outputs": [
    {
     "name": "stdout",
     "output_type": "stream",
     "text": [
      "Random forest RMSLE(default): 3.12212364773\n"
     ]
    }
   ],
   "source": [
    "model_rf = RandomForestRegressor()\n",
    "model_rf.fit(x_log_train, y_log_train)\n",
    "pred_rf = np.expm1(model_rf.predict(x_log_test))\n",
    "rmsle_rf = cal_rmsle(y_log_test, pred_rf)\n",
    "print(\"Random forest RMSLE(log):\",rmsle_rf) "
   ]
  },
  {
   "cell_type": "code",
   "execution_count": 114,
   "metadata": {
    "collapsed": false
   },
   "outputs": [
    {
     "data": {
      "text/plain": [
       "<matplotlib.text.Text at 0x113801a58>"
      ]
     },
     "execution_count": 114,
     "metadata": {},
     "output_type": "execute_result"
    },
    {
     "data": {
      "image/png": "[encoded data removed]",
      "text/plain": [
       "<matplotlib.figure.Figure at 0x13bd7a4e0>"
      ]
     },
     "metadata": {},
     "output_type": "display_data"
    }
   ],
   "source": [
    "rmsle_train=[]\n",
    "rmsle_test=[]\n",
    "for k in range(10, 501, 100):\n",
    "    clf = ensemble.RandomForestRegressor(\n",
    "        n_estimators=k)\n",
    " \n",
    "    clf.fit(x_train, y_train)\n",
    "    result = clf.predict(x_train)\n",
    "    rmsle_train.append(\n",
    "        cal_rmsle(y_train, result))\n",
    "    \n",
    "    clf.fit(x_train, y_train)\n",
    "    result = clf.predict(x_test)\n",
    "    rmsle_test.append(\n",
    "        cal_rmsle(y_test,result))\n",
    "  \n",
    "#Plot the data\n",
    "x=range(10, 501,100)\n",
    "plt.style.use('ggplot')\n",
    "plt.plot(x, rmsle_train, 'k')\n",
    "plt.plot(x, rmsle_test, 'b')\n",
    "plt.xlabel('Number of Estimators', fontsize=18)\n",
    "plt.ylabel('RMSLE', fontsize=18)\n",
    "plt.legend(['Train', 'Test'], fontsize=18)\n",
    "plt.title(' RMSLE vs. Number of Estimators', fontsize=20)"
   ]
  },
  {
   "cell_type": "code",
   "execution_count": 115,
   "metadata": {
    "collapsed": false
   },
   "outputs": [
    {
     "name": "stdout",
     "output_type": "stream",
     "text": [
      "Random forest RMSLE(best): 0.315968474497\n"
     ]
    }
   ],
   "source": [
    "model_rf = RandomForestRegressor(bootstrap=True, criterion='mse', max_depth=None,\n",
    "           max_features='auto', max_leaf_nodes=None,\n",
    "           min_impurity_split=1e-07, min_samples_leaf=1,\n",
    "           min_samples_split=2, min_weight_fraction_leaf=0.0,\n",
    "           n_estimators=100, n_jobs=1, oob_score=False, random_state=66,\n",
    "           verbose=0, warm_start=False)\n",
    "model_rf.fit(x_train, y_train)\n",
    "pred_rf = model_rf.predict(x_test)\n",
    "rmsle_rf = cal_rmsle(y_test, pred_rf)\n",
    "print(\"Random forest RMSLE:\",rmsle_rf) "
   ]
  },
  {
   "cell_type": "markdown",
   "metadata": {
    "collapsed": true
   },
   "source": [
    "###  ExtraTreesRegressor"
   ]
  },
  {
   "cell_type": "code",
   "execution_count": 123,
   "metadata": {
    "collapsed": false
   },
   "outputs": [
    {
     "name": "stdout",
     "output_type": "stream",
     "text": [
      "ExtraTreesRegressor RMSLE(default): 0.335498918863\n"
     ]
    }
   ],
   "source": [
    "from sklearn.ensemble import ExtraTreesRegressor\n",
    "# test\n",
    "model_et = ExtraTreesRegressor(n_estimators=10,random_state=66)\n",
    "model_et.fit(x_train, y_train)\n",
    "pred_et = model_et.predict(x_test)\n",
    "rmsle_et = cal_rmsle(y_test, pred_et)\n",
    "print(\"ExtraTreesRegressor RMSLE(default):\",rmsle_et)"
   ]
  },
  {
   "cell_type": "code",
   "execution_count": 127,
   "metadata": {
    "collapsed": false
   },
   "outputs": [
    {
     "name": "stdout",
     "output_type": "stream",
     "text": [
      "Best parameters set found on development set:\n",
      "ExtraTreesRegressor(bootstrap=False, criterion='mse', max_depth=None,\n",
      "          max_features='auto', max_leaf_nodes=None,\n",
      "          min_impurity_split=1e-07, min_samples_leaf=1,\n",
      "          min_samples_split=2, min_weight_fraction_leaf=0.0,\n",
      "          n_estimators=500, n_jobs=1, oob_score=False, random_state=None,\n",
      "          verbose=0, warm_start=False)\n",
      "Grid scores on development set:\n",
      "0.939 (+/-0.003) for {'n_estimators': 10}\n",
      "0.947 (+/-0.003) for {'n_estimators': 50}\n",
      "0.947 (+/-0.003) for {'n_estimators': 100}\n",
      "0.948 (+/-0.003) for {'n_estimators': 200}\n",
      "0.948 (+/-0.003) for {'n_estimators': 500}\n",
      "0.939 (+/-0.004) for {'min_samples_leaf': 1}\n",
      "0.940 (+/-0.004) for {'min_samples_leaf': 2}\n",
      "0.931 (+/-0.003) for {'min_samples_leaf': 5}\n",
      "0.915 (+/-0.003) for {'min_samples_leaf': 10}\n",
      "0.822 (+/-0.007) for {'min_samples_leaf': 50}\n",
      "0.715 (+/-0.009) for {'min_samples_leaf': 100}\n",
      "0.938 (+/-0.004) for {'min_samples_split': 2}\n",
      "0.940 (+/-0.003) for {'min_samples_split': 5}\n",
      "0.937 (+/-0.003) for {'min_samples_split': 10}\n",
      "0.906 (+/-0.004) for {'min_samples_split': 50}\n",
      "0.872 (+/-0.004) for {'min_samples_split': 100}\n",
      "0.939 (+/-0.003) for {'min_weight_fraction_leaf': 0.0}\n",
      "0.442 (+/-0.011) for {'min_weight_fraction_leaf': 0.1}\n",
      "0.184 (+/-0.012) for {'min_weight_fraction_leaf': 0.3}\n",
      "0.133 (+/-0.009) for {'min_weight_fraction_leaf': 0.4}\n",
      "-0.000 (+/-0.000) for {'min_weight_fraction_leaf': 0.5}\n"
     ]
    }
   ],
   "source": [
    "parameters = [\n",
    "    {'n_estimators':[10, 50, 100, 200, 500]}, \n",
    "    {'min_samples_leaf':[1,2,5,10,50,100]}, #2\n",
    "    {'min_samples_split':[2,5,10,50,100]}, #10\n",
    "    {'min_weight_fraction_leaf':[0.0, 0.1, 0.3, 0.4, 0.5]}]   \n",
    "    \n",
    "#Parameter tunning\n",
    "parameterTunning(ExtraTreesRegressor(), parameters,x_train, y_train)"
   ]
  },
  {
   "cell_type": "code",
   "execution_count": 130,
   "metadata": {
    "collapsed": false
   },
   "outputs": [
    {
     "name": "stdout",
     "output_type": "stream",
     "text": [
      "ExtraTreesRegressor RMSLE: 0.307013586447\n"
     ]
    }
   ],
   "source": [
    "model_et = ExtraTreesRegressor(bootstrap=False, criterion='mse', max_depth=None,\n",
    "          max_features='auto', max_leaf_nodes=None,\n",
    "          min_impurity_split=1e-07, min_samples_leaf=1,\n",
    "          min_samples_split=2, min_weight_fraction_leaf=0.0,\n",
    "          n_estimators=500, n_jobs=1, oob_score=False, random_state=None,\n",
    "          verbose=0, warm_start=False)\n",
    "model_et.fit(x_train, y_train)\n",
    "pred_et = model_et.predict(x_test)\n",
    "rmsle_et = cal_rmsle(y_test, pred_et)\n",
    "print(\"ExtraTreesRegressor RMSLE:\",rmsle_et) "
   ]
  },
  {
   "cell_type": "code",
   "execution_count": null,
   "metadata": {
    "collapsed": true
   },
   "outputs": [],
   "source": []
  },
  {
   "cell_type": "code",
   "execution_count": null,
   "metadata": {
    "collapsed": true
   },
   "outputs": [],
   "source": []
  },
  {
   "cell_type": "code",
   "execution_count": null,
   "metadata": {
    "collapsed": true
   },
   "outputs": [],
   "source": []
  }
 ],
 "metadata": {
  "kernelspec": {
   "display_name": "Python 2",
   "language": "python",
   "name": "python2"
  },
  "language_info": {
   "codemirror_mode": {
    "name": "ipython",
    "version": 2
   },
   "file_extension": ".py",
   "mimetype": "text/x-python",
   "name": "python",
   "nbconvert_exporter": "python",
   "pygments_lexer": "ipython2",
   "version": "2.7.13"
  }
 },
 "nbformat": 4,
 "nbformat_minor": 2
}
