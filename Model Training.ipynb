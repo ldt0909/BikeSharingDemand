{
 "cells": [
  {
   "cell_type": "code",
   "execution_count": 140,
   "metadata": {
    "collapsed": false
   },
   "outputs": [],
   "source": [
    "import pandas as pd\n",
    "import numpy as np\n",
    "from matplotlib import pyplot as plt \n",
    "%matplotlib inline \n",
    "# from matplotlib.pylab import rcParams\n",
    "# rcParams['figure.figsize'] = 12, 4\n",
    "import timeit\n",
    "from sklearn.model_selection import cross_val_score\n",
    "from sklearn.preprocessing import OneHotEncoder\n",
    "import random\n",
    "import statsmodels.api as sm\n",
    "from sklearn.linear_model import LinearRegression\n",
    "from sklearn.ensemble import RandomForestRegressor\n",
    "from sklearn.ensemble import GradientBoostingRegressor\n",
    "from sklearn import model_selection, metrics\n",
    "from sklearn.grid_search import GridSearchCV # perform grid search\n",
    "from sklearn.model_selection import KFold \n",
    "import xgboost as xgb\n",
    "from datetime import datetime"
   ]
  },
  {
   "cell_type": "markdown",
   "metadata": {},
   "source": [
    "# Load Data"
   ]
  },
  {
   "cell_type": "code",
   "execution_count": 142,
   "metadata": {
    "collapsed": false
   },
   "outputs": [
    {
     "data": {
      "text/html": [
       "<div>\n",
       "<table border=\"1\" class=\"dataframe\">\n",
       "  <thead>\n",
       "    <tr style=\"text-align: right;\">\n",
       "      <th></th>\n",
       "      <th>datetime</th>\n",
       "      <th>season</th>\n",
       "      <th>holiday</th>\n",
       "      <th>workingday</th>\n",
       "      <th>weather</th>\n",
       "      <th>temp</th>\n",
       "      <th>atemp</th>\n",
       "      <th>humidity</th>\n",
       "      <th>windspeed</th>\n",
       "      <th>casual</th>\n",
       "      <th>registered</th>\n",
       "      <th>count</th>\n",
       "      <th>year</th>\n",
       "      <th>month</th>\n",
       "      <th>day</th>\n",
       "      <th>hour</th>\n",
       "      <th>weekday</th>\n",
       "    </tr>\n",
       "  </thead>\n",
       "  <tbody>\n",
       "    <tr>\n",
       "      <th>0</th>\n",
       "      <td>2011-01-01 00:00:00</td>\n",
       "      <td>1</td>\n",
       "      <td>0</td>\n",
       "      <td>0</td>\n",
       "      <td>1</td>\n",
       "      <td>9.84</td>\n",
       "      <td>14.395</td>\n",
       "      <td>81</td>\n",
       "      <td>0.0</td>\n",
       "      <td>3</td>\n",
       "      <td>13</td>\n",
       "      <td>16</td>\n",
       "      <td>2011</td>\n",
       "      <td>1</td>\n",
       "      <td>1</td>\n",
       "      <td>0</td>\n",
       "      <td>5</td>\n",
       "    </tr>\n",
       "    <tr>\n",
       "      <th>1</th>\n",
       "      <td>2011-01-01 01:00:00</td>\n",
       "      <td>1</td>\n",
       "      <td>0</td>\n",
       "      <td>0</td>\n",
       "      <td>1</td>\n",
       "      <td>9.02</td>\n",
       "      <td>13.635</td>\n",
       "      <td>80</td>\n",
       "      <td>0.0</td>\n",
       "      <td>8</td>\n",
       "      <td>32</td>\n",
       "      <td>40</td>\n",
       "      <td>2011</td>\n",
       "      <td>1</td>\n",
       "      <td>1</td>\n",
       "      <td>1</td>\n",
       "      <td>5</td>\n",
       "    </tr>\n",
       "    <tr>\n",
       "      <th>2</th>\n",
       "      <td>2011-01-01 02:00:00</td>\n",
       "      <td>1</td>\n",
       "      <td>0</td>\n",
       "      <td>0</td>\n",
       "      <td>1</td>\n",
       "      <td>9.02</td>\n",
       "      <td>13.635</td>\n",
       "      <td>80</td>\n",
       "      <td>0.0</td>\n",
       "      <td>5</td>\n",
       "      <td>27</td>\n",
       "      <td>32</td>\n",
       "      <td>2011</td>\n",
       "      <td>1</td>\n",
       "      <td>1</td>\n",
       "      <td>2</td>\n",
       "      <td>5</td>\n",
       "    </tr>\n",
       "  </tbody>\n",
       "</table>\n",
       "</div>"
      ],
      "text/plain": [
       "              datetime  season  holiday  workingday  weather  temp   atemp  \\\n",
       "0  2011-01-01 00:00:00       1        0           0        1  9.84  14.395   \n",
       "1  2011-01-01 01:00:00       1        0           0        1  9.02  13.635   \n",
       "2  2011-01-01 02:00:00       1        0           0        1  9.02  13.635   \n",
       "\n",
       "   humidity  windspeed  casual  registered  count  year  month  day  hour  \\\n",
       "0        81        0.0       3          13     16  2011      1    1     0   \n",
       "1        80        0.0       8          32     40  2011      1    1     1   \n",
       "2        80        0.0       5          27     32  2011      1    1     2   \n",
       "\n",
       "   weekday  \n",
       "0        5  \n",
       "1        5  \n",
       "2        5  "
      ]
     },
     "execution_count": 142,
     "metadata": {},
     "output_type": "execute_result"
    }
   ],
   "source": [
    "train_df = pd.read_csv(\"train.csv\", header=0)\n",
    "test_df = pd.read_csv(\"test.csv\", header = 0)\n",
    "\n",
    "# convert datetime column into multiple columns (year/month/day/hour/weekday)\n",
    "dt = pd.to_datetime(train_df[\"datetime\"]) # convert string to datetime type\n",
    "train_df[\"year\"] = dt.map(lambda x: x.year) \n",
    "train_df[\"month\"] = dt.map(lambda x: x.month)\n",
    "train_df[\"day\"] = dt.map(lambda x: x.day)\n",
    "train_df[\"hour\"] = dt.map(lambda x: x.hour)\n",
    "train_df[\"weekday\"] = dt.map(lambda x: x.weekday())\n",
    "train_df.head(3)"
   ]
  },
  {
   "cell_type": "code",
   "execution_count": 143,
   "metadata": {
    "collapsed": false
   },
   "outputs": [
    {
     "data": {
      "text/html": [
       "<div>\n",
       "<table border=\"1\" class=\"dataframe\">\n",
       "  <thead>\n",
       "    <tr style=\"text-align: right;\">\n",
       "      <th></th>\n",
       "      <th>datetime</th>\n",
       "      <th>season</th>\n",
       "      <th>holiday</th>\n",
       "      <th>workingday</th>\n",
       "      <th>weather</th>\n",
       "      <th>temp</th>\n",
       "      <th>atemp</th>\n",
       "      <th>humidity</th>\n",
       "      <th>windspeed</th>\n",
       "      <th>year</th>\n",
       "      <th>month</th>\n",
       "      <th>day</th>\n",
       "      <th>hour</th>\n",
       "      <th>weekday</th>\n",
       "    </tr>\n",
       "  </thead>\n",
       "  <tbody>\n",
       "    <tr>\n",
       "      <th>0</th>\n",
       "      <td>2011-01-20 00:00:00</td>\n",
       "      <td>1</td>\n",
       "      <td>0</td>\n",
       "      <td>1</td>\n",
       "      <td>1</td>\n",
       "      <td>10.66</td>\n",
       "      <td>11.365</td>\n",
       "      <td>56</td>\n",
       "      <td>26.0027</td>\n",
       "      <td>2011</td>\n",
       "      <td>1</td>\n",
       "      <td>20</td>\n",
       "      <td>0</td>\n",
       "      <td>3</td>\n",
       "    </tr>\n",
       "    <tr>\n",
       "      <th>1</th>\n",
       "      <td>2011-01-20 01:00:00</td>\n",
       "      <td>1</td>\n",
       "      <td>0</td>\n",
       "      <td>1</td>\n",
       "      <td>1</td>\n",
       "      <td>10.66</td>\n",
       "      <td>13.635</td>\n",
       "      <td>56</td>\n",
       "      <td>0.0000</td>\n",
       "      <td>2011</td>\n",
       "      <td>1</td>\n",
       "      <td>20</td>\n",
       "      <td>1</td>\n",
       "      <td>3</td>\n",
       "    </tr>\n",
       "    <tr>\n",
       "      <th>2</th>\n",
       "      <td>2011-01-20 02:00:00</td>\n",
       "      <td>1</td>\n",
       "      <td>0</td>\n",
       "      <td>1</td>\n",
       "      <td>1</td>\n",
       "      <td>10.66</td>\n",
       "      <td>13.635</td>\n",
       "      <td>56</td>\n",
       "      <td>0.0000</td>\n",
       "      <td>2011</td>\n",
       "      <td>1</td>\n",
       "      <td>20</td>\n",
       "      <td>2</td>\n",
       "      <td>3</td>\n",
       "    </tr>\n",
       "  </tbody>\n",
       "</table>\n",
       "</div>"
      ],
      "text/plain": [
       "              datetime  season  holiday  workingday  weather   temp   atemp  \\\n",
       "0  2011-01-20 00:00:00       1        0           1        1  10.66  11.365   \n",
       "1  2011-01-20 01:00:00       1        0           1        1  10.66  13.635   \n",
       "2  2011-01-20 02:00:00       1        0           1        1  10.66  13.635   \n",
       "\n",
       "   humidity  windspeed  year  month  day  hour  weekday  \n",
       "0        56    26.0027  2011      1   20     0        3  \n",
       "1        56     0.0000  2011      1   20     1        3  \n",
       "2        56     0.0000  2011      1   20     2        3  "
      ]
     },
     "execution_count": 143,
     "metadata": {},
     "output_type": "execute_result"
    }
   ],
   "source": [
    "# convert datetime column into multiple columns (year/month/day/hour/weekday)\n",
    "dt = pd.to_datetime(test_df[\"datetime\"]) # convert string to datetime type\n",
    "test_df[\"year\"] = dt.map(lambda x: x.year) \n",
    "test_df[\"month\"] = dt.map(lambda x: x.month)\n",
    "test_df[\"day\"] = dt.map(lambda x: x.day)\n",
    "test_df[\"hour\"] = dt.map(lambda x: x.hour)\n",
    "test_df[\"weekday\"] = dt.map(lambda x: x.weekday())\n",
    "test_df.head(3)"
   ]
  },
  {
   "cell_type": "markdown",
   "metadata": {},
   "source": [
    "## Remove outliers \n",
    "From the figure Perceived Temerature VS Actual Temperature, there are some points far away from the diagonal line. Therefore, we remove the data points in the following steps."
   ]
  },
  {
   "cell_type": "code",
   "execution_count": 144,
   "metadata": {
    "collapsed": true
   },
   "outputs": [],
   "source": [
    "train_clean = train_df[np.array(train_df[\"temp\"]/train_df[\"atemp\"])<2]"
   ]
  },
  {
   "cell_type": "code",
   "execution_count": 151,
   "metadata": {
    "collapsed": true
   },
   "outputs": [],
   "source": [
    "train_all = train_clean"
   ]
  },
  {
   "cell_type": "code",
   "execution_count": 152,
   "metadata": {
    "collapsed": false
   },
   "outputs": [
    {
     "data": {
      "image/png": "[encoded data removed]",
      "text/plain": [
       "<matplotlib.figure.Figure at 0x11cb2c390>"
      ]
     },
     "metadata": {},
     "output_type": "display_data"
    }
   ],
   "source": [
    "f, ax = plt.subplots(figsize=(5, 4))\n",
    "ax.scatter(train_clean[\"atemp\"], train_clean[\"temp\"], alpha = 0.2)\n",
    "ax.plot(ax.get_xlim(), ax.get_ylim(), ls=\"--\", c=\".3\", color = \"red\")\n",
    "ax.set_xlabel(\"Feels like Temperature\")\n",
    "ax.set_ylabel(\"Actual Temperature\")\n",
    "plt.title(\"Perceived Temperature VS Actual Temperature\")\n",
    "plt.show()"
   ]
  },
  {
   "cell_type": "markdown",
   "metadata": {},
   "source": [
    "# Model Training"
   ]
  },
  {
   "cell_type": "markdown",
   "metadata": {},
   "source": [
    "##  Feature Engineer\n",
    "In the following section, We conducted one-hot-encoding to converse all categorical variables into binary arrays."
   ]
  },
  {
   "cell_type": "code",
   "execution_count": 153,
   "metadata": {
    "collapsed": false
   },
   "outputs": [
    {
     "data": {
      "text/html": [
       "<div>\n",
       "<table border=\"1\" class=\"dataframe\">\n",
       "  <thead>\n",
       "    <tr style=\"text-align: right;\">\n",
       "      <th></th>\n",
       "      <th>season</th>\n",
       "      <th>holiday</th>\n",
       "      <th>workingday</th>\n",
       "      <th>weather</th>\n",
       "      <th>atemp</th>\n",
       "      <th>humidity</th>\n",
       "      <th>windspeed</th>\n",
       "      <th>count</th>\n",
       "      <th>year</th>\n",
       "      <th>month</th>\n",
       "      <th>day</th>\n",
       "      <th>hour</th>\n",
       "    </tr>\n",
       "  </thead>\n",
       "  <tbody>\n",
       "    <tr>\n",
       "      <th>0</th>\n",
       "      <td>1</td>\n",
       "      <td>0</td>\n",
       "      <td>0</td>\n",
       "      <td>1</td>\n",
       "      <td>14.395</td>\n",
       "      <td>81</td>\n",
       "      <td>0.0</td>\n",
       "      <td>16</td>\n",
       "      <td>2011</td>\n",
       "      <td>1</td>\n",
       "      <td>1</td>\n",
       "      <td>0</td>\n",
       "    </tr>\n",
       "    <tr>\n",
       "      <th>1</th>\n",
       "      <td>1</td>\n",
       "      <td>0</td>\n",
       "      <td>0</td>\n",
       "      <td>1</td>\n",
       "      <td>13.635</td>\n",
       "      <td>80</td>\n",
       "      <td>0.0</td>\n",
       "      <td>40</td>\n",
       "      <td>2011</td>\n",
       "      <td>1</td>\n",
       "      <td>1</td>\n",
       "      <td>1</td>\n",
       "    </tr>\n",
       "    <tr>\n",
       "      <th>2</th>\n",
       "      <td>1</td>\n",
       "      <td>0</td>\n",
       "      <td>0</td>\n",
       "      <td>1</td>\n",
       "      <td>13.635</td>\n",
       "      <td>80</td>\n",
       "      <td>0.0</td>\n",
       "      <td>32</td>\n",
       "      <td>2011</td>\n",
       "      <td>1</td>\n",
       "      <td>1</td>\n",
       "      <td>2</td>\n",
       "    </tr>\n",
       "  </tbody>\n",
       "</table>\n",
       "</div>"
      ],
      "text/plain": [
       "   season  holiday  workingday  weather   atemp  humidity  windspeed  count  \\\n",
       "0       1        0           0        1  14.395        81        0.0     16   \n",
       "1       1        0           0        1  13.635        80        0.0     40   \n",
       "2       1        0           0        1  13.635        80        0.0     32   \n",
       "\n",
       "   year  month  day  hour  \n",
       "0  2011      1    1     0  \n",
       "1  2011      1    1     1  \n",
       "2  2011      1    1     2  "
      ]
     },
     "execution_count": 153,
     "metadata": {},
     "output_type": "execute_result"
    }
   ],
   "source": [
    "# weekday is dropped because it overlaps with workingday\n",
    "# temp is dropped because it overlaps with atemp\n",
    "# registered and casual are dropped because they should be response variable\n",
    "train_all = train_all.drop(['datetime', 'weekday', 'temp', 'registered', 'casual'],axis = 1) # include all features and target\n",
    "train_all.head(3)"
   ]
  },
  {
   "cell_type": "code",
   "execution_count": 7,
   "metadata": {
    "collapsed": false
   },
   "outputs": [
    {
     "data": {
      "text/html": [
       "<div>\n",
       "<table border=\"1\" class=\"dataframe\">\n",
       "  <thead>\n",
       "    <tr style=\"text-align: right;\">\n",
       "      <th></th>\n",
       "      <th>season</th>\n",
       "      <th>holiday</th>\n",
       "      <th>workingday</th>\n",
       "      <th>weather</th>\n",
       "      <th>atemp</th>\n",
       "      <th>humidity</th>\n",
       "      <th>windspeed</th>\n",
       "      <th>year</th>\n",
       "      <th>month</th>\n",
       "      <th>day</th>\n",
       "      <th>hour</th>\n",
       "    </tr>\n",
       "  </thead>\n",
       "  <tbody>\n",
       "    <tr>\n",
       "      <th>0</th>\n",
       "      <td>1</td>\n",
       "      <td>0</td>\n",
       "      <td>1</td>\n",
       "      <td>1</td>\n",
       "      <td>11.365</td>\n",
       "      <td>56</td>\n",
       "      <td>26.0027</td>\n",
       "      <td>2011</td>\n",
       "      <td>1</td>\n",
       "      <td>20</td>\n",
       "      <td>0</td>\n",
       "    </tr>\n",
       "    <tr>\n",
       "      <th>1</th>\n",
       "      <td>1</td>\n",
       "      <td>0</td>\n",
       "      <td>1</td>\n",
       "      <td>1</td>\n",
       "      <td>13.635</td>\n",
       "      <td>56</td>\n",
       "      <td>0.0000</td>\n",
       "      <td>2011</td>\n",
       "      <td>1</td>\n",
       "      <td>20</td>\n",
       "      <td>1</td>\n",
       "    </tr>\n",
       "    <tr>\n",
       "      <th>2</th>\n",
       "      <td>1</td>\n",
       "      <td>0</td>\n",
       "      <td>1</td>\n",
       "      <td>1</td>\n",
       "      <td>13.635</td>\n",
       "      <td>56</td>\n",
       "      <td>0.0000</td>\n",
       "      <td>2011</td>\n",
       "      <td>1</td>\n",
       "      <td>20</td>\n",
       "      <td>2</td>\n",
       "    </tr>\n",
       "  </tbody>\n",
       "</table>\n",
       "</div>"
      ],
      "text/plain": [
       "   season  holiday  workingday  weather   atemp  humidity  windspeed  year  \\\n",
       "0       1        0           1        1  11.365        56    26.0027  2011   \n",
       "1       1        0           1        1  13.635        56     0.0000  2011   \n",
       "2       1        0           1        1  13.635        56     0.0000  2011   \n",
       "\n",
       "   month  day  hour  \n",
       "0      1   20     0  \n",
       "1      1   20     1  \n",
       "2      1   20     2  "
      ]
     },
     "execution_count": 7,
     "metadata": {},
     "output_type": "execute_result"
    }
   ],
   "source": [
    "test_all = test_df.drop(['datetime', 'weekday', 'temp'],axis = 1) # include all features and target\n",
    "test_all.head(3) # features for testing model"
   ]
  },
  {
   "cell_type": "markdown",
   "metadata": {},
   "source": [
    "In the above table, conduct one-hot-encoding for \"season\", \"holiday\", \"workingday\", \"weather\""
   ]
  },
  {
   "cell_type": "code",
   "execution_count": 154,
   "metadata": {
    "collapsed": false
   },
   "outputs": [
    {
     "name": "stdout",
     "output_type": "stream",
     "text": [
      "encoded results for the first four categorical features:  \n",
      "\n",
      "[[ 1.  0.  0. ...,  0.  0.  0.]\n",
      " [ 1.  0.  0. ...,  0.  0.  0.]\n",
      " [ 1.  0.  0. ...,  0.  0.  0.]\n",
      " ..., \n",
      " [ 0.  0.  0. ...,  0.  0.  0.]\n",
      " [ 0.  0.  0. ...,  0.  0.  0.]\n",
      " [ 0.  0.  0. ...,  0.  0.  0.]] (10862, 12) \n",
      "\n",
      "combine encoded features with other numerical features:  \n",
      "\n",
      "[[  1.   0.   0. ...,   1.   1.   0.]\n",
      " [  1.   0.   0. ...,   1.   1.   1.]\n",
      " [  1.   0.   0. ...,   1.   1.   2.]\n",
      " ..., \n",
      " [  0.   0.   0. ...,  12.  19.  21.]\n",
      " [  0.   0.   0. ...,  12.  19.  22.]\n",
      " [  0.   0.   0. ...,  12.  19.  23.]] (10862, 20) \n",
      "\n",
      "Index([u'season', u'holiday', u'workingday', u'weather', u'atemp', u'humidity',\n",
      "       u'windspeed', u'count', u'year', u'month', u'day', u'hour'],\n",
      "      dtype='object')\n"
     ]
    }
   ],
   "source": [
    "encode_feature = train_all[['season','holiday','workingday','weather']].values\n",
    "enc = OneHotEncoder()\n",
    "encode_result = enc.fit_transform(encode_feature).toarray()\n",
    "print \"encoded results for the first four categorical features: \", \"\\n\"\n",
    "print encode_result, np.shape(encode_result), \"\\n\"\n",
    "\n",
    "after_encode = np.concatenate([encode_result,train_all.ix[:, 4:]], axis = 1)\n",
    "print \"combine encoded features with other numerical features: \", \"\\n\"\n",
    "print after_encode, np.shape(after_encode), \"\\n\"\n",
    "\n",
    "col_names = train_all.columns\n",
    "print col_names"
   ]
  },
  {
   "cell_type": "code",
   "execution_count": 155,
   "metadata": {
    "collapsed": false
   },
   "outputs": [],
   "source": [
    "train_target_encode = after_encode[:, -5]\n",
    "train_feature_encode = np.concatenate([after_encode[:,0:-5], after_encode[:,-4:]], axis = 1)"
   ]
  },
  {
   "cell_type": "markdown",
   "metadata": {},
   "source": [
    "## Train Test Split\n",
    "### Version 1: without one-hot-encoding train test split"
   ]
  },
  {
   "cell_type": "code",
   "execution_count": 160,
   "metadata": {
    "collapsed": false
   },
   "outputs": [
    {
     "name": "stdout",
     "output_type": "stream",
     "text": [
      "['season', 'holiday', 'workingday', 'weather', 'atemp', 'humidity', 'windspeed', 'count', 'year', 'month', 'day', 'hour']\n",
      "train target shape:  (7277,)\n",
      "train shape:  (7277, 11)\n",
      "test target shape:  (3585,)\n",
      "test shape:  (3585, 11)\n",
      "before split shape:  (10862, 12)\n"
     ]
    }
   ],
   "source": [
    "# train and test split. 2:1. 11 features in total. \n",
    "# train: 2d array\n",
    "# test: 2d array\n",
    "temp = train_all.values\n",
    "header1 = list(col_names)\n",
    "print header1\n",
    "\n",
    "train_size = int(temp.shape[0]*0.67)\n",
    "\n",
    "train_sample_indices = random.sample(range(temp.shape[0]),train_size) # random sample from temp data. No replacement\n",
    "data1 = temp[train_sample_indices,:]\n",
    "\n",
    "validation_sample_indices = [i for i in range(temp.shape[0]) if i not in train_sample_indices]\n",
    "data2 = temp[validation_sample_indices,:]\n",
    "\n",
    "header2 = header1\n",
    "\n",
    "train_target = temp[train_sample_indices, header1.index('count')].astype(int) # target value for train data\n",
    "train_feature = np.delete(data1, header1.index('count'), axis = 1) # all features for model input\n",
    "test_target = temp[validation_sample_indices, header2.index('count')].astype(int) # target value for validation data\n",
    "test_feature = np.delete(data2, header2.index('count'), axis = 1) \n",
    "\n",
    "assert(np.shape(train_feature)[0] + np.shape(test_feature)[0] == np.shape(temp)[0]) # makesure the split is right\n",
    "header1.remove('count')\n",
    "print \"train target shape: \", np.shape(train_target)\n",
    "print \"train shape: \", np.shape(train_feature)\n",
    "print \"test target shape: \", np.shape(test_target)\n",
    "print \"test shape: \", np.shape(test_feature)\n",
    "print \"before split shape: \", np.shape(temp)"
   ]
  },
  {
   "cell_type": "markdown",
   "metadata": {},
   "source": [
    "### version 2: with one-hot-encoding train test split"
   ]
  },
  {
   "cell_type": "code",
   "execution_count": 168,
   "metadata": {
    "collapsed": false
   },
   "outputs": [
    {
     "name": "stdout",
     "output_type": "stream",
     "text": [
      " encoded train target shape:  (7277,)\n",
      "encoded train shape:  (7277, 19)\n",
      "encoded test target shape:  (3585,)\n",
      "encoded test shape:  (3585, 19)\n"
     ]
    }
   ],
   "source": [
    "# train test split. 19 features in total\n",
    "# after encoded. 2d array\n",
    "full_train_target_encode = after_encode[:, -5]\n",
    "full_train_feature_encode = np.concatenate([after_encode[:,0:-5], after_encode[:,-4:]], axis = 1)\n",
    "\n",
    "\n",
    "train_size = int(full_train_feature_encode.shape[0]*0.67)\n",
    "\n",
    "train_sample_indices = random.sample(range(full_train_feature_encode.shape[0]),train_size) # random sample from temp data. No replacement\n",
    "data1 = temp[train_sample_indices,:]\n",
    "\n",
    "validation_sample_indices = [i for i in range(full_train_feature_encode.shape[0]) if i not in train_sample_indices]\n",
    "data2 = temp[validation_sample_indices,:]\n",
    "\n",
    "\n",
    "train_target_encode = full_train_target_encode[train_sample_indices].astype(int) # target value for train data\n",
    "train_feature_encode = full_train_feature_encode[train_sample_indices] # all features for model input\n",
    "test_target_encode = full_train_target_encode[validation_sample_indices].astype(int) # target value for validation data\n",
    "test_feature_encode = full_train_feature_encode[validation_sample_indices]\n",
    "\n",
    "assert(np.shape(train_feature_encode)[0] + np.shape(test_feature_encode)[0] == np.shape(full_train_feature_encode)[0]) # makesure the split is right\n",
    "\n",
    "print \"encoded train target shape: \", np.shape(train_target_encode)\n",
    "print \"encoded train shape: \", np.shape(train_feature_encode) # all features for model input\n",
    "print \"encoded test target shape: \", np.shape(test_target_encode)\n",
    "print \"encoded test shape: \", np.shape(test_feature_encode)\n",
    "# print \"encoded before split shape: \", np.shape(temp)"
   ]
  },
  {
   "cell_type": "markdown",
   "metadata": {},
   "source": [
    "#### Here we have all training data and testing data. Ready to GO!\n",
    "## Define evaluation function"
   ]
  },
  {
   "cell_type": "code",
   "execution_count": 161,
   "metadata": {
    "collapsed": false
   },
   "outputs": [
    {
     "data": {
      "text/plain": [
       "0.56717915832655263"
      ]
     },
     "execution_count": 161,
     "metadata": {},
     "output_type": "execute_result"
    }
   ],
   "source": [
    "# Evaluation\n",
    "def cal_rmlse(pred, actual):\n",
    "    \"\"\"\n",
    "    evaluation of model\n",
    "    parameters:\n",
    "    -----------\n",
    "    pred: array or list\n",
    "        prediction\n",
    "    actual: array or list\n",
    "        actual target value\n",
    "    return:\n",
    "    -----------\n",
    "    rmlse\n",
    "    \"\"\"\n",
    "    rmlse = np.sqrt(np.mean((np.log(np.array(pred) + 1)- np.log(np.array(actual) + 1))**2))\n",
    "    return rmlse\n",
    "# test example\n",
    "cal_rmlse([1,2,3],[2,6,2])"
   ]
  },
  {
   "cell_type": "markdown",
   "metadata": {},
   "source": [
    "## Model 1: Linear Regression\n",
    "### pair-wise scatter plot"
   ]
  },
  {
   "cell_type": "code",
   "execution_count": 13,
   "metadata": {
    "collapsed": false
   },
   "outputs": [
    {
     "data": {
      "text/html": [
       "<table class=\"simpletable\">\n",
       "<caption>OLS Regression Results</caption>\n",
       "<tr>\n",
       "  <th>Dep. Variable:</th>            <td>y</td>        <th>  R-squared:         </th> <td>   0.386</td> \n",
       "</tr>\n",
       "<tr>\n",
       "  <th>Model:</th>                   <td>OLS</td>       <th>  Adj. R-squared:    </th> <td>   0.385</td> \n",
       "</tr>\n",
       "<tr>\n",
       "  <th>Method:</th>             <td>Least Squares</td>  <th>  F-statistic:       </th> <td>   415.6</td> \n",
       "</tr>\n",
       "<tr>\n",
       "  <th>Date:</th>             <td>Mon, 22 May 2017</td> <th>  Prob (F-statistic):</th>  <td>  0.00</td>  \n",
       "</tr>\n",
       "<tr>\n",
       "  <th>Time:</th>                 <td>15:43:50</td>     <th>  Log-Likelihood:    </th> <td> -46483.</td> \n",
       "</tr>\n",
       "<tr>\n",
       "  <th>No. Observations:</th>      <td>  7293</td>      <th>  AIC:               </th> <td>9.299e+04</td>\n",
       "</tr>\n",
       "<tr>\n",
       "  <th>Df Residuals:</th>          <td>  7281</td>      <th>  BIC:               </th> <td>9.307e+04</td>\n",
       "</tr>\n",
       "<tr>\n",
       "  <th>Df Model:</th>              <td>    11</td>      <th>                     </th>     <td> </td>    \n",
       "</tr>\n",
       "<tr>\n",
       "  <th>Covariance Type:</th>      <td>nonrobust</td>    <th>                     </th>     <td> </td>    \n",
       "</tr>\n",
       "</table>\n",
       "<table class=\"simpletable\">\n",
       "<tr>\n",
       "    <td></td>       <th>coef</th>     <th>std err</th>      <th>t</th>      <th>P>|t|</th> <th>[95.0% Conf. Int.]</th> \n",
       "</tr>\n",
       "<tr>\n",
       "  <th>const</th> <td>-1.671e+05</td> <td> 6731.419</td> <td>  -24.818</td> <td> 0.000</td> <td> -1.8e+05 -1.54e+05</td>\n",
       "</tr>\n",
       "<tr>\n",
       "  <th>x1</th>    <td>  -11.5857</td> <td>    6.339</td> <td>   -1.828</td> <td> 0.068</td> <td>  -24.013     0.841</td>\n",
       "</tr>\n",
       "<tr>\n",
       "  <th>x2</th>    <td>   -0.6858</td> <td>   10.461</td> <td>   -0.066</td> <td> 0.948</td> <td>  -21.192    19.820</td>\n",
       "</tr>\n",
       "<tr>\n",
       "  <th>x3</th>    <td>    0.7254</td> <td>    3.683</td> <td>    0.197</td> <td> 0.844</td> <td>   -6.494     7.945</td>\n",
       "</tr>\n",
       "<tr>\n",
       "  <th>x4</th>    <td>   -2.9423</td> <td>    2.919</td> <td>   -1.008</td> <td> 0.314</td> <td>   -8.665     2.780</td>\n",
       "</tr>\n",
       "<tr>\n",
       "  <th>x5</th>    <td>    5.9979</td> <td>    0.207</td> <td>   28.908</td> <td> 0.000</td> <td>    5.591     6.405</td>\n",
       "</tr>\n",
       "<tr>\n",
       "  <th>x6</th>    <td>   -2.0802</td> <td>    0.106</td> <td>  -19.555</td> <td> 0.000</td> <td>   -2.289    -1.872</td>\n",
       "</tr>\n",
       "<tr>\n",
       "  <th>x7</th>    <td>    0.6068</td> <td>    0.218</td> <td>    2.788</td> <td> 0.005</td> <td>    0.180     1.033</td>\n",
       "</tr>\n",
       "<tr>\n",
       "  <th>x8</th>    <td>   83.0699</td> <td>    3.346</td> <td>   24.825</td> <td> 0.000</td> <td>   76.510    89.630</td>\n",
       "</tr>\n",
       "<tr>\n",
       "  <th>x9</th>    <td>   11.7084</td> <td>    2.059</td> <td>    5.687</td> <td> 0.000</td> <td>    7.672    15.744</td>\n",
       "</tr>\n",
       "<tr>\n",
       "  <th>x10</th>   <td>    0.2764</td> <td>    0.304</td> <td>    0.909</td> <td> 0.363</td> <td>   -0.320     0.872</td>\n",
       "</tr>\n",
       "<tr>\n",
       "  <th>x11</th>   <td>    7.7200</td> <td>    0.254</td> <td>   30.383</td> <td> 0.000</td> <td>    7.222     8.218</td>\n",
       "</tr>\n",
       "</table>\n",
       "<table class=\"simpletable\">\n",
       "<tr>\n",
       "  <th>Omnibus:</th>       <td>1444.052</td> <th>  Durbin-Watson:     </th> <td>   1.989</td>\n",
       "</tr>\n",
       "<tr>\n",
       "  <th>Prob(Omnibus):</th>  <td> 0.000</td>  <th>  Jarque-Bera (JB):  </th> <td>2798.743</td>\n",
       "</tr>\n",
       "<tr>\n",
       "  <th>Skew:</th>           <td> 1.204</td>  <th>  Prob(JB):          </th> <td>    0.00</td>\n",
       "</tr>\n",
       "<tr>\n",
       "  <th>Kurtosis:</th>       <td> 4.846</td>  <th>  Cond. No.          </th> <td>8.15e+06</td>\n",
       "</tr>\n",
       "</table>"
      ],
      "text/plain": [
       "<class 'statsmodels.iolib.summary.Summary'>\n",
       "\"\"\"\n",
       "                            OLS Regression Results                            \n",
       "==============================================================================\n",
       "Dep. Variable:                      y   R-squared:                       0.386\n",
       "Model:                            OLS   Adj. R-squared:                  0.385\n",
       "Method:                 Least Squares   F-statistic:                     415.6\n",
       "Date:                Mon, 22 May 2017   Prob (F-statistic):               0.00\n",
       "Time:                        15:43:50   Log-Likelihood:                -46483.\n",
       "No. Observations:                7293   AIC:                         9.299e+04\n",
       "Df Residuals:                    7281   BIC:                         9.307e+04\n",
       "Df Model:                          11                                         \n",
       "Covariance Type:            nonrobust                                         \n",
       "==============================================================================\n",
       "                 coef    std err          t      P>|t|      [95.0% Conf. Int.]\n",
       "------------------------------------------------------------------------------\n",
       "const      -1.671e+05   6731.419    -24.818      0.000      -1.8e+05 -1.54e+05\n",
       "x1           -11.5857      6.339     -1.828      0.068       -24.013     0.841\n",
       "x2            -0.6858     10.461     -0.066      0.948       -21.192    19.820\n",
       "x3             0.7254      3.683      0.197      0.844        -6.494     7.945\n",
       "x4            -2.9423      2.919     -1.008      0.314        -8.665     2.780\n",
       "x5             5.9979      0.207     28.908      0.000         5.591     6.405\n",
       "x6            -2.0802      0.106    -19.555      0.000        -2.289    -1.872\n",
       "x7             0.6068      0.218      2.788      0.005         0.180     1.033\n",
       "x8            83.0699      3.346     24.825      0.000        76.510    89.630\n",
       "x9            11.7084      2.059      5.687      0.000         7.672    15.744\n",
       "x10            0.2764      0.304      0.909      0.363        -0.320     0.872\n",
       "x11            7.7200      0.254     30.383      0.000         7.222     8.218\n",
       "==============================================================================\n",
       "Omnibus:                     1444.052   Durbin-Watson:                   1.989\n",
       "Prob(Omnibus):                  0.000   Jarque-Bera (JB):             2798.743\n",
       "Skew:                           1.204   Prob(JB):                         0.00\n",
       "Kurtosis:                       4.846   Cond. No.                     8.15e+06\n",
       "==============================================================================\n",
       "\n",
       "Warnings:\n",
       "[1] Standard Errors assume that the covariance matrix of the errors is correctly specified.\n",
       "[2] The condition number is large, 8.15e+06. This might indicate that there are\n",
       "strong multicollinearity or other numerical problems.\n",
       "\"\"\""
      ]
     },
     "execution_count": 13,
     "metadata": {},
     "output_type": "execute_result"
    }
   ],
   "source": [
    "X = sm.add_constant(train2)\n",
    "result = sm.OLS(train_target2, X).fit()\n",
    "result.summary()"
   ]
  },
  {
   "cell_type": "markdown",
   "metadata": {},
   "source": [
    "### remove insignificant variables one by one and see other variables' significance"
   ]
  },
  {
   "cell_type": "code",
   "execution_count": 14,
   "metadata": {
    "collapsed": false
   },
   "outputs": [
    {
     "data": {
      "text/html": [
       "<table class=\"simpletable\">\n",
       "<caption>OLS Regression Results</caption>\n",
       "<tr>\n",
       "  <th>Dep. Variable:</th>            <td>y</td>        <th>  R-squared:         </th> <td>   0.385</td> \n",
       "</tr>\n",
       "<tr>\n",
       "  <th>Model:</th>                   <td>OLS</td>       <th>  Adj. R-squared:    </th> <td>   0.385</td> \n",
       "</tr>\n",
       "<tr>\n",
       "  <th>Method:</th>             <td>Least Squares</td>  <th>  F-statistic:       </th> <td>   652.3</td> \n",
       "</tr>\n",
       "<tr>\n",
       "  <th>Date:</th>             <td>Mon, 22 May 2017</td> <th>  Prob (F-statistic):</th>  <td>  0.00</td>  \n",
       "</tr>\n",
       "<tr>\n",
       "  <th>Time:</th>                 <td>15:43:51</td>     <th>  Log-Likelihood:    </th> <td> -46485.</td> \n",
       "</tr>\n",
       "<tr>\n",
       "  <th>No. Observations:</th>      <td>  7293</td>      <th>  AIC:               </th> <td>9.299e+04</td>\n",
       "</tr>\n",
       "<tr>\n",
       "  <th>Df Residuals:</th>          <td>  7285</td>      <th>  BIC:               </th> <td>9.304e+04</td>\n",
       "</tr>\n",
       "<tr>\n",
       "  <th>Df Model:</th>              <td>     7</td>      <th>                     </th>     <td> </td>    \n",
       "</tr>\n",
       "<tr>\n",
       "  <th>Covariance Type:</th>      <td>nonrobust</td>    <th>                     </th>     <td> </td>    \n",
       "</tr>\n",
       "</table>\n",
       "<table class=\"simpletable\">\n",
       "<tr>\n",
       "    <td></td>       <th>coef</th>     <th>std err</th>      <th>t</th>      <th>P>|t|</th> <th>[95.0% Conf. Int.]</th> \n",
       "</tr>\n",
       "<tr>\n",
       "  <th>const</th> <td> -1.67e+05</td> <td> 6725.225</td> <td>  -24.832</td> <td> 0.000</td> <td> -1.8e+05 -1.54e+05</td>\n",
       "</tr>\n",
       "<tr>\n",
       "  <th>x1</th>    <td>    5.9931</td> <td>    0.207</td> <td>   28.943</td> <td> 0.000</td> <td>    5.587     6.399</td>\n",
       "</tr>\n",
       "<tr>\n",
       "  <th>x2</th>    <td>   -2.1217</td> <td>    0.096</td> <td>  -22.136</td> <td> 0.000</td> <td>   -2.310    -1.934</td>\n",
       "</tr>\n",
       "<tr>\n",
       "  <th>x3</th>    <td>    0.5816</td> <td>    0.215</td> <td>    2.701</td> <td> 0.007</td> <td>    0.160     1.004</td>\n",
       "</tr>\n",
       "<tr>\n",
       "  <th>x4</th>    <td>   83.0364</td> <td>    3.343</td> <td>   24.837</td> <td> 0.000</td> <td>   76.483    89.590</td>\n",
       "</tr>\n",
       "<tr>\n",
       "  <th>x5</th>    <td>    8.1020</td> <td>    0.518</td> <td>   15.643</td> <td> 0.000</td> <td>    7.087     9.117</td>\n",
       "</tr>\n",
       "<tr>\n",
       "  <th>x6</th>    <td>    0.2722</td> <td>    0.304</td> <td>    0.896</td> <td> 0.371</td> <td>   -0.324     0.868</td>\n",
       "</tr>\n",
       "<tr>\n",
       "  <th>x7</th>    <td>    7.7027</td> <td>    0.253</td> <td>   30.463</td> <td> 0.000</td> <td>    7.207     8.198</td>\n",
       "</tr>\n",
       "</table>\n",
       "<table class=\"simpletable\">\n",
       "<tr>\n",
       "  <th>Omnibus:</th>       <td>1448.774</td> <th>  Durbin-Watson:     </th> <td>   1.990</td>\n",
       "</tr>\n",
       "<tr>\n",
       "  <th>Prob(Omnibus):</th>  <td> 0.000</td>  <th>  Jarque-Bera (JB):  </th> <td>2814.097</td>\n",
       "</tr>\n",
       "<tr>\n",
       "  <th>Skew:</th>           <td> 1.207</td>  <th>  Prob(JB):          </th> <td>    0.00</td>\n",
       "</tr>\n",
       "<tr>\n",
       "  <th>Kurtosis:</th>       <td> 4.853</td>  <th>  Cond. No.          </th> <td>8.14e+06</td>\n",
       "</tr>\n",
       "</table>"
      ],
      "text/plain": [
       "<class 'statsmodels.iolib.summary.Summary'>\n",
       "\"\"\"\n",
       "                            OLS Regression Results                            \n",
       "==============================================================================\n",
       "Dep. Variable:                      y   R-squared:                       0.385\n",
       "Model:                            OLS   Adj. R-squared:                  0.385\n",
       "Method:                 Least Squares   F-statistic:                     652.3\n",
       "Date:                Mon, 22 May 2017   Prob (F-statistic):               0.00\n",
       "Time:                        15:43:51   Log-Likelihood:                -46485.\n",
       "No. Observations:                7293   AIC:                         9.299e+04\n",
       "Df Residuals:                    7285   BIC:                         9.304e+04\n",
       "Df Model:                           7                                         \n",
       "Covariance Type:            nonrobust                                         \n",
       "==============================================================================\n",
       "                 coef    std err          t      P>|t|      [95.0% Conf. Int.]\n",
       "------------------------------------------------------------------------------\n",
       "const       -1.67e+05   6725.225    -24.832      0.000      -1.8e+05 -1.54e+05\n",
       "x1             5.9931      0.207     28.943      0.000         5.587     6.399\n",
       "x2            -2.1217      0.096    -22.136      0.000        -2.310    -1.934\n",
       "x3             0.5816      0.215      2.701      0.007         0.160     1.004\n",
       "x4            83.0364      3.343     24.837      0.000        76.483    89.590\n",
       "x5             8.1020      0.518     15.643      0.000         7.087     9.117\n",
       "x6             0.2722      0.304      0.896      0.371        -0.324     0.868\n",
       "x7             7.7027      0.253     30.463      0.000         7.207     8.198\n",
       "==============================================================================\n",
       "Omnibus:                     1448.774   Durbin-Watson:                   1.990\n",
       "Prob(Omnibus):                  0.000   Jarque-Bera (JB):             2814.097\n",
       "Skew:                           1.207   Prob(JB):                         0.00\n",
       "Kurtosis:                       4.853   Cond. No.                     8.14e+06\n",
       "==============================================================================\n",
       "\n",
       "Warnings:\n",
       "[1] Standard Errors assume that the covariance matrix of the errors is correctly specified.\n",
       "[2] The condition number is large, 8.14e+06. This might indicate that there are\n",
       "strong multicollinearity or other numerical problems.\n",
       "\"\"\""
      ]
     },
     "execution_count": 14,
     "metadata": {},
     "output_type": "execute_result"
    }
   ],
   "source": [
    "X = sm.add_constant(train2[:, [4,5,6,7,8,9,10]])\n",
    "result = sm.OLS(train_target2, X).fit()\n",
    "result.summary()"
   ]
  },
  {
   "cell_type": "code",
   "execution_count": 15,
   "metadata": {
    "collapsed": false
   },
   "outputs": [
    {
     "name": "stdout",
     "output_type": "stream",
     "text": [
      "[  5.9930866   -2.12168379   0.58159473  83.03638176   8.10203909\n",
      "   0.27220823   7.70267321]\n"
     ]
    }
   ],
   "source": [
    "lr = LinearRegression(fit_intercept=True)\n",
    "lr.fit(train2[:, [4,5,6,7,8,9,10]], train_target2)\n",
    "print lr.coef_"
   ]
  },
  {
   "cell_type": "code",
   "execution_count": 16,
   "metadata": {
    "collapsed": false
   },
   "outputs": [
    {
     "data": {
      "image/png": "[encoded data removed]",
      "text/plain": [
       "<matplotlib.figure.Figure at 0x118a72e90>"
      ]
     },
     "metadata": {},
     "output_type": "display_data"
    }
   ],
   "source": [
    "plt.scatter(lr.predict(train2[:, [4,5,6,7,8,9,10]]), lr.predict(train2[:, [4,5,6,7,8,9,10]])-train_target2, \n",
    "            alpha = 0.5)\n",
    "plt.show()"
   ]
  },
  {
   "cell_type": "markdown",
   "metadata": {},
   "source": [
    "diagnostics looks not good"
   ]
  },
  {
   "cell_type": "markdown",
   "metadata": {},
   "source": [
    "### Baseline"
   ]
  },
  {
   "cell_type": "code",
   "execution_count": 17,
   "metadata": {
    "collapsed": false
   },
   "outputs": [
    {
     "name": "stdout",
     "output_type": "stream",
     "text": [
      "baseling rmlse:  1.56213879394\n"
     ]
    }
   ],
   "source": [
    "# calculate error of predicting baseline (everyday count of rental is the same, \n",
    "# which is the average demand of training data)\n",
    "kf = KFold(n_splits=10, random_state=200, shuffle=False)     \n",
    "rmlse_ls = []\n",
    "for train_index, test_index in kf.split(train_feature):\n",
    "    X_train, X_test = train_feature[train_index], train_feature[test_index]\n",
    "    y_train, y_test = train_target[train_index], train_target[test_index]\n",
    "    rmlse = cal_rmlse(np.mean(y_train), y_test)\n",
    "    rmlse_ls.append(rmlse)\n",
    "print \"baseling rmlse: \", np.mean(rmlse_ls)"
   ]
  },
  {
   "cell_type": "markdown",
   "metadata": {},
   "source": [
    "## Model 2: Random Forests"
   ]
  },
  {
   "cell_type": "code",
   "execution_count": 67,
   "metadata": {
    "collapsed": false
   },
   "outputs": [],
   "source": [
    "def cv_fit_pred(model, fold, train_feature, train_target):\n",
    "    kf = KFold(n_splits=10, random_state=200, shuffle=True)\n",
    "    gb_rmlse_ls = []\n",
    "    for train_index, test_index in kf.split(train_feature):\n",
    "        X_train, X_test = train_feature[train_index], train_feature[test_index]\n",
    "        y_train, y_test = train_target[train_index], train_target[test_index]\n",
    "    #     print np.shape(X_train), np.shape(X_test), np.shape(y_train)\n",
    "        model.fit(X_train, y_train)\n",
    "        pred = model.predict(X_test)\n",
    "        pred = [0 if i < 0 else i for i in pred]\n",
    "        rmlse = cal_rmlse(pred, y_test)\n",
    "    #     print \"rmlse for this fold: \", rmlse\n",
    "        gb_rmlse_ls.append(rmlse)\n",
    "    return np.mean(gb_rmlse_ls)"
   ]
  },
  {
   "cell_type": "markdown",
   "metadata": {},
   "source": [
    "### Fit Random Forests"
   ]
  },
  {
   "cell_type": "code",
   "execution_count": 173,
   "metadata": {
    "collapsed": false
   },
   "outputs": [
    {
     "name": "stdout",
     "output_type": "stream",
     "text": [
      "1 0.365223403686\n",
      "2 0.364858610949\n",
      "3 0.368013413812\n",
      "4 0.372613309061\n",
      "5 0.37667504662\n",
      "6 0.381781671524\n",
      "7"
     ]
    },
    {
     "ename": "KeyboardInterrupt",
     "evalue": "",
     "traceback": [
      "\u001b[0;31m---------------------------------------------------------------------------\u001b[0m",
      "\u001b[0;31mKeyboardInterrupt\u001b[0m                         Traceback (most recent call last)",
      "\u001b[0;32m<ipython-input-173-8e7c9ad0ea1b>\u001b[0m in \u001b[0;36m<module>\u001b[0;34m()\u001b[0m\n\u001b[1;32m      3\u001b[0m     rf = RandomForestRegressor(n_estimators=200, max_depth=None, random_state=0, max_features='auto',\n\u001b[1;32m      4\u001b[0m                                 min_samples_leaf = s, oob_score=True)\n\u001b[0;32m----> 5\u001b[0;31m     \u001b[0;32mprint\u001b[0m \u001b[0ms\u001b[0m\u001b[0;34m,\u001b[0m \u001b[0mcv_fit_pred\u001b[0m\u001b[0;34m(\u001b[0m\u001b[0mrf\u001b[0m\u001b[0;34m,\u001b[0m \u001b[0;36m10\u001b[0m\u001b[0;34m,\u001b[0m \u001b[0mtrain_feature\u001b[0m\u001b[0;34m,\u001b[0m \u001b[0mtrain_target\u001b[0m\u001b[0;34m)\u001b[0m\u001b[0;34m\u001b[0m\u001b[0m\n\u001b[0m",
      "\u001b[0;32m<ipython-input-67-57af24e23c93>\u001b[0m in \u001b[0;36mcv_fit_pred\u001b[0;34m(model, fold, train_feature, train_target)\u001b[0m\n\u001b[1;32m      6\u001b[0m         \u001b[0my_train\u001b[0m\u001b[0;34m,\u001b[0m \u001b[0my_test\u001b[0m \u001b[0;34m=\u001b[0m \u001b[0mtrain_target\u001b[0m\u001b[0;34m[\u001b[0m\u001b[0mtrain_index\u001b[0m\u001b[0;34m]\u001b[0m\u001b[0;34m,\u001b[0m \u001b[0mtrain_target\u001b[0m\u001b[0;34m[\u001b[0m\u001b[0mtest_index\u001b[0m\u001b[0;34m]\u001b[0m\u001b[0;34m\u001b[0m\u001b[0m\n\u001b[1;32m      7\u001b[0m     \u001b[0;31m#     print np.shape(X_train), np.shape(X_test), np.shape(y_train)\u001b[0m\u001b[0;34m\u001b[0m\u001b[0;34m\u001b[0m\u001b[0m\n\u001b[0;32m----> 8\u001b[0;31m         \u001b[0mmodel\u001b[0m\u001b[0;34m.\u001b[0m\u001b[0mfit\u001b[0m\u001b[0;34m(\u001b[0m\u001b[0mX_train\u001b[0m\u001b[0;34m,\u001b[0m \u001b[0my_train\u001b[0m\u001b[0;34m)\u001b[0m\u001b[0;34m\u001b[0m\u001b[0m\n\u001b[0m\u001b[1;32m      9\u001b[0m         \u001b[0mpred\u001b[0m \u001b[0;34m=\u001b[0m \u001b[0mmodel\u001b[0m\u001b[0;34m.\u001b[0m\u001b[0mpredict\u001b[0m\u001b[0;34m(\u001b[0m\u001b[0mX_test\u001b[0m\u001b[0;34m)\u001b[0m\u001b[0;34m\u001b[0m\u001b[0m\n\u001b[1;32m     10\u001b[0m         \u001b[0mpred\u001b[0m \u001b[0;34m=\u001b[0m \u001b[0;34m[\u001b[0m\u001b[0;36m0\u001b[0m \u001b[0;32mif\u001b[0m \u001b[0mi\u001b[0m \u001b[0;34m<\u001b[0m \u001b[0;36m0\u001b[0m \u001b[0;32melse\u001b[0m \u001b[0mi\u001b[0m \u001b[0;32mfor\u001b[0m \u001b[0mi\u001b[0m \u001b[0;32min\u001b[0m \u001b[0mpred\u001b[0m\u001b[0;34m]\u001b[0m\u001b[0;34m\u001b[0m\u001b[0m\n",
      "\u001b[0;32m/Users/MEG/anaconda/lib/python2.7/site-packages/sklearn/ensemble/forest.pyc\u001b[0m in \u001b[0;36mfit\u001b[0;34m(self, X, y, sample_weight)\u001b[0m\n\u001b[1;32m    312\u001b[0m             \u001b[0;32mfor\u001b[0m \u001b[0mi\u001b[0m \u001b[0;32min\u001b[0m \u001b[0mrange\u001b[0m\u001b[0;34m(\u001b[0m\u001b[0mn_more_estimators\u001b[0m\u001b[0;34m)\u001b[0m\u001b[0;34m:\u001b[0m\u001b[0;34m\u001b[0m\u001b[0m\n\u001b[1;32m    313\u001b[0m                 tree = self._make_estimator(append=False,\n\u001b[0;32m--> 314\u001b[0;31m                                             random_state=random_state)\n\u001b[0m\u001b[1;32m    315\u001b[0m                 \u001b[0mtrees\u001b[0m\u001b[0;34m.\u001b[0m\u001b[0mappend\u001b[0m\u001b[0;34m(\u001b[0m\u001b[0mtree\u001b[0m\u001b[0;34m)\u001b[0m\u001b[0;34m\u001b[0m\u001b[0m\n\u001b[1;32m    316\u001b[0m \u001b[0;34m\u001b[0m\u001b[0m\n",
      "\u001b[0;32m/Users/MEG/anaconda/lib/python2.7/site-packages/sklearn/ensemble/base.pyc\u001b[0m in \u001b[0;36m_make_estimator\u001b[0;34m(self, append, random_state)\u001b[0m\n\u001b[1;32m    117\u001b[0m         \u001b[0msub\u001b[0m\u001b[0;34m-\u001b[0m\u001b[0mestimators\u001b[0m\u001b[0;34m.\u001b[0m\u001b[0;34m\u001b[0m\u001b[0m\n\u001b[1;32m    118\u001b[0m         \"\"\"\n\u001b[0;32m--> 119\u001b[0;31m         \u001b[0mestimator\u001b[0m \u001b[0;34m=\u001b[0m \u001b[0mclone\u001b[0m\u001b[0;34m(\u001b[0m\u001b[0mself\u001b[0m\u001b[0;34m.\u001b[0m\u001b[0mbase_estimator_\u001b[0m\u001b[0;34m)\u001b[0m\u001b[0;34m\u001b[0m\u001b[0m\n\u001b[0m\u001b[1;32m    120\u001b[0m         estimator.set_params(**dict((p, getattr(self, p))\n\u001b[1;32m    121\u001b[0m                                     for p in self.estimator_params))\n",
      "\u001b[0;32m/Users/MEG/anaconda/lib/python2.7/site-packages/sklearn/base.pyc\u001b[0m in \u001b[0;36mclone\u001b[0;34m(estimator, safe)\u001b[0m\n\u001b[1;32m     69\u001b[0m         \u001b[0mnew_object_params\u001b[0m\u001b[0;34m[\u001b[0m\u001b[0mname\u001b[0m\u001b[0;34m]\u001b[0m \u001b[0;34m=\u001b[0m \u001b[0mclone\u001b[0m\u001b[0;34m(\u001b[0m\u001b[0mparam\u001b[0m\u001b[0;34m,\u001b[0m \u001b[0msafe\u001b[0m\u001b[0;34m=\u001b[0m\u001b[0mFalse\u001b[0m\u001b[0;34m)\u001b[0m\u001b[0;34m\u001b[0m\u001b[0m\n\u001b[1;32m     70\u001b[0m     \u001b[0mnew_object\u001b[0m \u001b[0;34m=\u001b[0m \u001b[0mklass\u001b[0m\u001b[0;34m(\u001b[0m\u001b[0;34m**\u001b[0m\u001b[0mnew_object_params\u001b[0m\u001b[0;34m)\u001b[0m\u001b[0;34m\u001b[0m\u001b[0m\n\u001b[0;32m---> 71\u001b[0;31m     \u001b[0mparams_set\u001b[0m \u001b[0;34m=\u001b[0m \u001b[0mnew_object\u001b[0m\u001b[0;34m.\u001b[0m\u001b[0mget_params\u001b[0m\u001b[0;34m(\u001b[0m\u001b[0mdeep\u001b[0m\u001b[0;34m=\u001b[0m\u001b[0mFalse\u001b[0m\u001b[0;34m)\u001b[0m\u001b[0;34m\u001b[0m\u001b[0m\n\u001b[0m\u001b[1;32m     72\u001b[0m \u001b[0;34m\u001b[0m\u001b[0m\n\u001b[1;32m     73\u001b[0m     \u001b[0;31m# quick sanity check of the parameters of the clone\u001b[0m\u001b[0;34m\u001b[0m\u001b[0;34m\u001b[0m\u001b[0m\n",
      "\u001b[0;32m/Users/MEG/anaconda/lib/python2.7/site-packages/sklearn/base.pyc\u001b[0m in \u001b[0;36mget_params\u001b[0;34m(self, deep)\u001b[0m\n\u001b[1;32m    233\u001b[0m         \"\"\"\n\u001b[1;32m    234\u001b[0m         \u001b[0mout\u001b[0m \u001b[0;34m=\u001b[0m \u001b[0mdict\u001b[0m\u001b[0;34m(\u001b[0m\u001b[0;34m)\u001b[0m\u001b[0;34m\u001b[0m\u001b[0m\n\u001b[0;32m--> 235\u001b[0;31m         \u001b[0;32mfor\u001b[0m \u001b[0mkey\u001b[0m \u001b[0;32min\u001b[0m \u001b[0mself\u001b[0m\u001b[0;34m.\u001b[0m\u001b[0m_get_param_names\u001b[0m\u001b[0;34m(\u001b[0m\u001b[0;34m)\u001b[0m\u001b[0;34m:\u001b[0m\u001b[0;34m\u001b[0m\u001b[0m\n\u001b[0m\u001b[1;32m    236\u001b[0m             \u001b[0;31m# We need deprecation warnings to always be on in order to\u001b[0m\u001b[0;34m\u001b[0m\u001b[0;34m\u001b[0m\u001b[0m\n\u001b[1;32m    237\u001b[0m             \u001b[0;31m# catch deprecated param values.\u001b[0m\u001b[0;34m\u001b[0m\u001b[0;34m\u001b[0m\u001b[0m\n",
      "\u001b[0;32m/Users/MEG/anaconda/lib/python2.7/site-packages/sklearn/base.pyc\u001b[0m in \u001b[0;36m_get_param_names\u001b[0;34m(cls)\u001b[0m\n\u001b[1;32m    203\u001b[0m         \u001b[0;31m# introspect the constructor arguments to find the model parameters\u001b[0m\u001b[0;34m\u001b[0m\u001b[0;34m\u001b[0m\u001b[0m\n\u001b[1;32m    204\u001b[0m         \u001b[0;31m# to represent\u001b[0m\u001b[0;34m\u001b[0m\u001b[0;34m\u001b[0m\u001b[0m\n\u001b[0;32m--> 205\u001b[0;31m         \u001b[0minit_signature\u001b[0m \u001b[0;34m=\u001b[0m \u001b[0msignature\u001b[0m\u001b[0;34m(\u001b[0m\u001b[0minit\u001b[0m\u001b[0;34m)\u001b[0m\u001b[0;34m\u001b[0m\u001b[0m\n\u001b[0m\u001b[1;32m    206\u001b[0m         \u001b[0;31m# Consider the constructor parameters excluding 'self'\u001b[0m\u001b[0;34m\u001b[0m\u001b[0;34m\u001b[0m\u001b[0m\n\u001b[1;32m    207\u001b[0m         parameters = [p for p in init_signature.parameters.values()\n",
      "\u001b[0;32m/Users/MEG/anaconda/lib/python2.7/site-packages/sklearn/externals/funcsigs.pyc\u001b[0m in \u001b[0;36msignature\u001b[0;34m(obj)\u001b[0m\n\u001b[1;32m     63\u001b[0m         \u001b[0;32mif\u001b[0m \u001b[0mobj\u001b[0m\u001b[0;34m.\u001b[0m\u001b[0m__self__\u001b[0m \u001b[0;32mis\u001b[0m \u001b[0mNone\u001b[0m\u001b[0;34m:\u001b[0m\u001b[0;34m\u001b[0m\u001b[0m\n\u001b[1;32m     64\u001b[0m             \u001b[0;31m# Unbound method: the first parameter becomes positional-only\u001b[0m\u001b[0;34m\u001b[0m\u001b[0;34m\u001b[0m\u001b[0m\n\u001b[0;32m---> 65\u001b[0;31m             \u001b[0;32mif\u001b[0m \u001b[0msig\u001b[0m\u001b[0;34m.\u001b[0m\u001b[0mparameters\u001b[0m\u001b[0;34m:\u001b[0m\u001b[0;34m\u001b[0m\u001b[0m\n\u001b[0m\u001b[1;32m     66\u001b[0m                 first = sig.parameters.values()[0].replace(\n\u001b[1;32m     67\u001b[0m                     kind=_POSITIONAL_ONLY)\n",
      "\u001b[0;32m/Users/MEG/anaconda/lib/python2.7/site-packages/sklearn/externals/funcsigs.pyc\u001b[0m in \u001b[0;36mparameters\u001b[0;34m(self)\u001b[0m\n\u001b[1;32m    588\u001b[0m             \u001b[0;32mreturn\u001b[0m \u001b[0mtypes\u001b[0m\u001b[0;34m.\u001b[0m\u001b[0mMappingProxyType\u001b[0m\u001b[0;34m(\u001b[0m\u001b[0mself\u001b[0m\u001b[0;34m.\u001b[0m\u001b[0m_parameters\u001b[0m\u001b[0;34m)\u001b[0m\u001b[0;34m\u001b[0m\u001b[0m\n\u001b[1;32m    589\u001b[0m         \u001b[0;32mexcept\u001b[0m \u001b[0mAttributeError\u001b[0m\u001b[0;34m:\u001b[0m\u001b[0;34m\u001b[0m\u001b[0m\n\u001b[0;32m--> 590\u001b[0;31m             \u001b[0;32mreturn\u001b[0m \u001b[0mOrderedDict\u001b[0m\u001b[0;34m(\u001b[0m\u001b[0mself\u001b[0m\u001b[0;34m.\u001b[0m\u001b[0m_parameters\u001b[0m\u001b[0;34m.\u001b[0m\u001b[0mitems\u001b[0m\u001b[0;34m(\u001b[0m\u001b[0;34m)\u001b[0m\u001b[0;34m)\u001b[0m\u001b[0;34m\u001b[0m\u001b[0m\n\u001b[0m\u001b[1;32m    591\u001b[0m \u001b[0;34m\u001b[0m\u001b[0m\n\u001b[1;32m    592\u001b[0m     \u001b[0;34m@\u001b[0m\u001b[0mproperty\u001b[0m\u001b[0;34m\u001b[0m\u001b[0m\n",
      "\u001b[0;32m/Users/MEG/anaconda/lib/python2.7/collections.pyc\u001b[0m in \u001b[0;36m__init__\u001b[0;34m(*args, **kwds)\u001b[0m\n\u001b[1;32m     67\u001b[0m             \u001b[0mroot\u001b[0m\u001b[0;34m[\u001b[0m\u001b[0;34m:\u001b[0m\u001b[0;34m]\u001b[0m \u001b[0;34m=\u001b[0m \u001b[0;34m[\u001b[0m\u001b[0mroot\u001b[0m\u001b[0;34m,\u001b[0m \u001b[0mroot\u001b[0m\u001b[0;34m,\u001b[0m \u001b[0mNone\u001b[0m\u001b[0;34m]\u001b[0m\u001b[0;34m\u001b[0m\u001b[0m\n\u001b[1;32m     68\u001b[0m             \u001b[0mself\u001b[0m\u001b[0;34m.\u001b[0m\u001b[0m__map\u001b[0m \u001b[0;34m=\u001b[0m \u001b[0;34m{\u001b[0m\u001b[0;34m}\u001b[0m\u001b[0;34m\u001b[0m\u001b[0m\n\u001b[0;32m---> 69\u001b[0;31m         \u001b[0mself\u001b[0m\u001b[0;34m.\u001b[0m\u001b[0m__update\u001b[0m\u001b[0;34m(\u001b[0m\u001b[0;34m*\u001b[0m\u001b[0margs\u001b[0m\u001b[0;34m,\u001b[0m \u001b[0;34m**\u001b[0m\u001b[0mkwds\u001b[0m\u001b[0;34m)\u001b[0m\u001b[0;34m\u001b[0m\u001b[0m\n\u001b[0m\u001b[1;32m     70\u001b[0m \u001b[0;34m\u001b[0m\u001b[0m\n\u001b[1;32m     71\u001b[0m     \u001b[0;32mdef\u001b[0m \u001b[0m__setitem__\u001b[0m\u001b[0;34m(\u001b[0m\u001b[0mself\u001b[0m\u001b[0;34m,\u001b[0m \u001b[0mkey\u001b[0m\u001b[0;34m,\u001b[0m \u001b[0mvalue\u001b[0m\u001b[0;34m,\u001b[0m \u001b[0mdict_setitem\u001b[0m\u001b[0;34m=\u001b[0m\u001b[0mdict\u001b[0m\u001b[0;34m.\u001b[0m\u001b[0m__setitem__\u001b[0m\u001b[0;34m)\u001b[0m\u001b[0;34m:\u001b[0m\u001b[0;34m\u001b[0m\u001b[0m\n",
      "\u001b[0;32m/Users/MEG/anaconda/lib/python2.7/_abcoll.pyc\u001b[0m in \u001b[0;36mupdate\u001b[0;34m(*args, **kwds)\u001b[0m\n\u001b[1;32m    562\u001b[0m         \u001b[0;32mif\u001b[0m \u001b[0margs\u001b[0m\u001b[0;34m:\u001b[0m\u001b[0;34m\u001b[0m\u001b[0m\n\u001b[1;32m    563\u001b[0m             \u001b[0mother\u001b[0m \u001b[0;34m=\u001b[0m \u001b[0margs\u001b[0m\u001b[0;34m[\u001b[0m\u001b[0;36m0\u001b[0m\u001b[0;34m]\u001b[0m\u001b[0;34m\u001b[0m\u001b[0m\n\u001b[0;32m--> 564\u001b[0;31m             \u001b[0;32mif\u001b[0m \u001b[0misinstance\u001b[0m\u001b[0;34m(\u001b[0m\u001b[0mother\u001b[0m\u001b[0;34m,\u001b[0m \u001b[0mMapping\u001b[0m\u001b[0;34m)\u001b[0m\u001b[0;34m:\u001b[0m\u001b[0;34m\u001b[0m\u001b[0m\n\u001b[0m\u001b[1;32m    565\u001b[0m                 \u001b[0;32mfor\u001b[0m \u001b[0mkey\u001b[0m \u001b[0;32min\u001b[0m \u001b[0mother\u001b[0m\u001b[0;34m:\u001b[0m\u001b[0;34m\u001b[0m\u001b[0m\n\u001b[1;32m    566\u001b[0m                     \u001b[0mself\u001b[0m\u001b[0;34m[\u001b[0m\u001b[0mkey\u001b[0m\u001b[0;34m]\u001b[0m \u001b[0;34m=\u001b[0m \u001b[0mother\u001b[0m\u001b[0;34m[\u001b[0m\u001b[0mkey\u001b[0m\u001b[0;34m]\u001b[0m\u001b[0;34m\u001b[0m\u001b[0m\n",
      "\u001b[0;32m/Users/MEG/anaconda/lib/python2.7/abc.pyc\u001b[0m in \u001b[0;36m__instancecheck__\u001b[0;34m(cls, instance)\u001b[0m\n\u001b[1;32m    138\u001b[0m         \u001b[0;32mif\u001b[0m \u001b[0msubtype\u001b[0m \u001b[0;32mis\u001b[0m \u001b[0msubclass\u001b[0m \u001b[0;32mor\u001b[0m \u001b[0msubclass\u001b[0m \u001b[0;32mis\u001b[0m \u001b[0mNone\u001b[0m\u001b[0;34m:\u001b[0m\u001b[0;34m\u001b[0m\u001b[0m\n\u001b[1;32m    139\u001b[0m             if (cls._abc_negative_cache_version ==\n\u001b[0;32m--> 140\u001b[0;31m                 \u001b[0mABCMeta\u001b[0m\u001b[0;34m.\u001b[0m\u001b[0m_abc_invalidation_counter\u001b[0m \u001b[0;32mand\u001b[0m\u001b[0;34m\u001b[0m\u001b[0m\n\u001b[0m\u001b[1;32m    141\u001b[0m                 subtype in cls._abc_negative_cache):\n\u001b[1;32m    142\u001b[0m                 \u001b[0;32mreturn\u001b[0m \u001b[0mFalse\u001b[0m\u001b[0;34m\u001b[0m\u001b[0m\n",
      "\u001b[0;31mKeyboardInterrupt\u001b[0m: "
     ],
     "output_type": "error"
    }
   ],
   "source": [
    "# sample_leaf selection\n",
    "# choose 2\n",
    "sample_leaf = range(1,10)\n",
    "for s in sample_leaf:\n",
    "    rf = RandomForestRegressor(n_estimators=200, max_depth=None, random_state=0, max_features='auto',\n",
    "                                min_samples_leaf = s, oob_score=True)\n",
    "    print s, cv_fit_pred(rf, 10, train_feature, train_target)"
   ]
  },
  {
   "cell_type": "code",
   "execution_count": 176,
   "metadata": {
    "collapsed": false
   },
   "outputs": [
    {
     "name": "stdout",
     "output_type": "stream",
     "text": [
      " 100 0.365614394685\n",
      "150 0.364810018536\n",
      "200 0.364858610949\n",
      "250 0.364597869776\n",
      "300 0.364439276433\n",
      "350 0.364169056634\n",
      "400 0.364144472101\n",
      "450 0.363944520717\n"
     ]
    }
   ],
   "source": [
    "# n_estimators selection\n",
    "# choose 2\n",
    "estimators = range(100,500,50)\n",
    "for s in estimators:\n",
    "    rf = RandomForestRegressor(n_estimators=s, max_depth=None, random_state=0, max_features='auto',\n",
    "                                min_samples_leaf = 2, oob_score=True)\n",
    "    print s, cv_fit_pred(rf, 10, train_feature, train_target)"
   ]
  },
  {
   "cell_type": "markdown",
   "metadata": {},
   "source": [
    "#### Final Parameters: n_estimators = 300, max_depth = None, n_jobs = -1,random_state =0, max_features = \"auto\", min_samples_leaf = 2"
   ]
  },
  {
   "cell_type": "code",
   "execution_count": 179,
   "metadata": {
    "collapsed": false
   },
   "outputs": [
    {
     "name": "stdout",
     "output_type": "stream",
     "text": [
      "cross-validation error:  0.364439276433\n",
      "RMLSE on testing dataset:  0.359584063223\n"
     ]
    }
   ],
   "source": [
    "model = RandomForestRegressor(n_estimators = 300, max_depth = None, n_jobs = -1,random_state =0,\n",
    "                              max_features = \"auto\", min_samples_leaf = 2)\n",
    "print \"cross-validation error: \", cv_fit_pred(model, 10, train_feature, train_target)\n",
    "pred = model.predict(test_feature)\n",
    "rmlse = cal_rmlse(pred, test_target)\n",
    "print \"RMLSE on testing dataset: \", rmlse"
   ]
  },
  {
   "cell_type": "code",
   "execution_count": 180,
   "metadata": {
    "collapsed": false
   },
   "outputs": [
    {
     "name": "stdout",
     "output_type": "stream",
     "text": [
      "cross-validation error:  0.354933603726\n",
      "RMLSE on testing dataset:  0.360913403882\n"
     ]
    }
   ],
   "source": [
    "# one-hot-encoding prediction results\n",
    "model = RandomForestRegressor(n_estimators = 300, max_depth = None, n_jobs = -1,random_state =0,\n",
    "                              max_features = \"auto\", min_samples_leaf = 2)\n",
    "print \"cross-validation error: \", cv_fit_pred(model, 10, train_feature_encode, train_target_encode)\n",
    "pred = model.predict(test_feature_encode)\n",
    "rmlse = cal_rmlse(pred, test_target_encode)\n",
    "print \"RMLSE on testing dataset: \", rmlse"
   ]
  },
  {
   "cell_type": "markdown",
   "metadata": {},
   "source": [
    "### Model 3: Gradient Boosting"
   ]
  },
  {
   "cell_type": "markdown",
   "metadata": {},
   "source": [
    "#### default gradient boosting setting"
   ]
  },
  {
   "cell_type": "code",
   "execution_count": 181,
   "metadata": {
    "collapsed": false
   },
   "outputs": [
    {
     "name": "stdout",
     "output_type": "stream",
     "text": [
      "0.746049605182\n"
     ]
    }
   ],
   "source": [
    "gbm0 = GradientBoostingRegressor(random_state = 200)\n",
    "print cv_fit_pred(gbm0, 10, train_feature, train_target)"
   ]
  },
  {
   "cell_type": "code",
   "execution_count": 182,
   "metadata": {
    "collapsed": false
   },
   "outputs": [
    {
     "name": "stdout",
     "output_type": "stream",
     "text": [
      "20 0.969461397273\n",
      "70 0.733133910956\n",
      "120 0.725509586921\n",
      "170 0.686610442629\n",
      "220 0.670591961702\n",
      "270 0.665031891959\n",
      "320 0.660801992007\n",
      "370 0.656878078323\n",
      "420 0.652101507716\n",
      "470 0.652971216435\n"
     ]
    }
   ],
   "source": [
    "# choose n_estimators\n",
    "n_estimators = range(20,500,50)\n",
    "for estimator in n_estimators:\n",
    "#     print estimator\n",
    "    model = GradientBoostingRegressor(n_estimators = estimator, learning_rate=0.1, min_samples_split=500,min_samples_leaf=50,\n",
    "                                                               max_depth=None,max_features='sqrt',subsample=0.8,random_state=10)\n",
    "\n",
    "    print estimator, cv_fit_pred(model, 10, train_feature, train_target)\n",
    "# choose 500"
   ]
  },
  {
   "cell_type": "code",
   "execution_count": 187,
   "metadata": {
    "collapsed": false
   },
   "outputs": [
    {
     "name": "stdout",
     "output_type": "stream",
     "text": [
      "1 1.13431840879\n",
      "5 0.675511138518\n",
      "9 0.659139296122\n",
      "13 0.654637473136\n",
      "17 0.653923782916\n"
     ]
    }
   ],
   "source": [
    "# choose max_depth\n",
    "max_depths = range(1,20,4)\n",
    "for m in max_depths:\n",
    "#     print estimator\n",
    "    model = GradientBoostingRegressor(n_estimators = 500, learning_rate=0.1, min_samples_split=500,min_samples_leaf=50,\n",
    "                                                               max_depth=m, max_features='sqrt',subsample=0.8,random_state=10)\n",
    "\n",
    "    print m, cv_fit_pred(model, 10, train_feature, train_target)"
   ]
  },
  {
   "cell_type": "code",
   "execution_count": 185,
   "metadata": {
    "collapsed": false
   },
   "outputs": [
    {
     "name": "stdout",
     "output_type": "stream",
     "text": [
      "0.652848840751\n"
     ]
    }
   ],
   "source": [
    "# choose None for max_depth\n",
    "model = GradientBoostingRegressor(n_estimators = 500, learning_rate=0.1, min_samples_split=500,min_samples_leaf=50,\n",
    "                                                               max_depth=None, max_features='sqrt',subsample=0.8,random_state=10)\n",
    "print cv_fit_pred(model, 10, train_feature, train_target)"
   ]
  },
  {
   "cell_type": "code",
   "execution_count": 188,
   "metadata": {
    "collapsed": false
   },
   "outputs": [
    {
     "name": "stdout",
     "output_type": "stream",
     "text": [
      "2 0.589402532098\n",
      "4 0.589402532098\n",
      "6 0.589402532098\n",
      "8"
     ]
    },
    {
     "ename": "KeyboardInterrupt",
     "evalue": "",
     "traceback": [
      "\u001b[0;31m---------------------------------------------------------------------------\u001b[0m",
      "\u001b[0;31mKeyboardInterrupt\u001b[0m                         Traceback (most recent call last)",
      "\u001b[0;32m<ipython-input-188-cfaa40c80e80>\u001b[0m in \u001b[0;36m<module>\u001b[0;34m()\u001b[0m\n\u001b[1;32m      6\u001b[0m                                                                max_depth=None, max_features='sqrt',subsample=0.8,random_state=10)\n\u001b[1;32m      7\u001b[0m \u001b[0;34m\u001b[0m\u001b[0m\n\u001b[0;32m----> 8\u001b[0;31m     \u001b[0;32mprint\u001b[0m \u001b[0mm\u001b[0m\u001b[0;34m,\u001b[0m \u001b[0mcv_fit_pred\u001b[0m\u001b[0;34m(\u001b[0m\u001b[0mmodel\u001b[0m\u001b[0;34m,\u001b[0m \u001b[0;36m10\u001b[0m\u001b[0;34m,\u001b[0m \u001b[0mtrain_feature\u001b[0m\u001b[0;34m,\u001b[0m \u001b[0mtrain_target\u001b[0m\u001b[0;34m)\u001b[0m\u001b[0;34m\u001b[0m\u001b[0m\n\u001b[0m\u001b[1;32m      9\u001b[0m \u001b[0;31m# choose 2\u001b[0m\u001b[0;34m\u001b[0m\u001b[0;34m\u001b[0m\u001b[0m\n",
      "\u001b[0;32m<ipython-input-67-57af24e23c93>\u001b[0m in \u001b[0;36mcv_fit_pred\u001b[0;34m(model, fold, train_feature, train_target)\u001b[0m\n\u001b[1;32m      6\u001b[0m         \u001b[0my_train\u001b[0m\u001b[0;34m,\u001b[0m \u001b[0my_test\u001b[0m \u001b[0;34m=\u001b[0m \u001b[0mtrain_target\u001b[0m\u001b[0;34m[\u001b[0m\u001b[0mtrain_index\u001b[0m\u001b[0;34m]\u001b[0m\u001b[0;34m,\u001b[0m \u001b[0mtrain_target\u001b[0m\u001b[0;34m[\u001b[0m\u001b[0mtest_index\u001b[0m\u001b[0;34m]\u001b[0m\u001b[0;34m\u001b[0m\u001b[0m\n\u001b[1;32m      7\u001b[0m     \u001b[0;31m#     print np.shape(X_train), np.shape(X_test), np.shape(y_train)\u001b[0m\u001b[0;34m\u001b[0m\u001b[0;34m\u001b[0m\u001b[0m\n\u001b[0;32m----> 8\u001b[0;31m         \u001b[0mmodel\u001b[0m\u001b[0;34m.\u001b[0m\u001b[0mfit\u001b[0m\u001b[0;34m(\u001b[0m\u001b[0mX_train\u001b[0m\u001b[0;34m,\u001b[0m \u001b[0my_train\u001b[0m\u001b[0;34m)\u001b[0m\u001b[0;34m\u001b[0m\u001b[0m\n\u001b[0m\u001b[1;32m      9\u001b[0m         \u001b[0mpred\u001b[0m \u001b[0;34m=\u001b[0m \u001b[0mmodel\u001b[0m\u001b[0;34m.\u001b[0m\u001b[0mpredict\u001b[0m\u001b[0;34m(\u001b[0m\u001b[0mX_test\u001b[0m\u001b[0;34m)\u001b[0m\u001b[0;34m\u001b[0m\u001b[0m\n\u001b[1;32m     10\u001b[0m         \u001b[0mpred\u001b[0m \u001b[0;34m=\u001b[0m \u001b[0;34m[\u001b[0m\u001b[0;36m0\u001b[0m \u001b[0;32mif\u001b[0m \u001b[0mi\u001b[0m \u001b[0;34m<\u001b[0m \u001b[0;36m0\u001b[0m \u001b[0;32melse\u001b[0m \u001b[0mi\u001b[0m \u001b[0;32mfor\u001b[0m \u001b[0mi\u001b[0m \u001b[0;32min\u001b[0m \u001b[0mpred\u001b[0m\u001b[0;34m]\u001b[0m\u001b[0;34m\u001b[0m\u001b[0m\n",
      "\u001b[0;32m/Users/MEG/anaconda/lib/python2.7/site-packages/sklearn/ensemble/gradient_boosting.pyc\u001b[0m in \u001b[0;36mfit\u001b[0;34m(self, X, y, sample_weight, monitor)\u001b[0m\n\u001b[1;32m   1026\u001b[0m         \u001b[0;31m# fit the boosting stages\u001b[0m\u001b[0;34m\u001b[0m\u001b[0;34m\u001b[0m\u001b[0m\n\u001b[1;32m   1027\u001b[0m         n_stages = self._fit_stages(X, y, y_pred, sample_weight, random_state,\n\u001b[0;32m-> 1028\u001b[0;31m                                     begin_at_stage, monitor, X_idx_sorted)\n\u001b[0m\u001b[1;32m   1029\u001b[0m         \u001b[0;31m# change shape of arrays after fit (early-stopping or additional ests)\u001b[0m\u001b[0;34m\u001b[0m\u001b[0;34m\u001b[0m\u001b[0m\n\u001b[1;32m   1030\u001b[0m         \u001b[0;32mif\u001b[0m \u001b[0mn_stages\u001b[0m \u001b[0;34m!=\u001b[0m \u001b[0mself\u001b[0m\u001b[0;34m.\u001b[0m\u001b[0mestimators_\u001b[0m\u001b[0;34m.\u001b[0m\u001b[0mshape\u001b[0m\u001b[0;34m[\u001b[0m\u001b[0;36m0\u001b[0m\u001b[0;34m]\u001b[0m\u001b[0;34m:\u001b[0m\u001b[0;34m\u001b[0m\u001b[0m\n",
      "\u001b[0;32m/Users/MEG/anaconda/lib/python2.7/site-packages/sklearn/ensemble/gradient_boosting.pyc\u001b[0m in \u001b[0;36m_fit_stages\u001b[0;34m(self, X, y, y_pred, sample_weight, random_state, begin_at_stage, monitor, X_idx_sorted)\u001b[0m\n\u001b[1;32m   1081\u001b[0m             y_pred = self._fit_stage(i, X, y, y_pred, sample_weight,\n\u001b[1;32m   1082\u001b[0m                                      \u001b[0msample_mask\u001b[0m\u001b[0;34m,\u001b[0m \u001b[0mrandom_state\u001b[0m\u001b[0;34m,\u001b[0m \u001b[0mX_idx_sorted\u001b[0m\u001b[0;34m,\u001b[0m\u001b[0;34m\u001b[0m\u001b[0m\n\u001b[0;32m-> 1083\u001b[0;31m                                      X_csc, X_csr)\n\u001b[0m\u001b[1;32m   1084\u001b[0m \u001b[0;34m\u001b[0m\u001b[0m\n\u001b[1;32m   1085\u001b[0m             \u001b[0;31m# track deviance (= loss)\u001b[0m\u001b[0;34m\u001b[0m\u001b[0;34m\u001b[0m\u001b[0m\n",
      "\u001b[0;32m/Users/MEG/anaconda/lib/python2.7/site-packages/sklearn/ensemble/gradient_boosting.pyc\u001b[0m in \u001b[0;36m_fit_stage\u001b[0;34m(self, i, X, y, y_pred, sample_weight, sample_mask, random_state, X_idx_sorted, X_csc, X_csr)\u001b[0m\n\u001b[1;32m    785\u001b[0m             \u001b[0;32melse\u001b[0m\u001b[0;34m:\u001b[0m\u001b[0;34m\u001b[0m\u001b[0m\n\u001b[1;32m    786\u001b[0m                 tree.fit(X, residual, sample_weight=sample_weight,\n\u001b[0;32m--> 787\u001b[0;31m                          check_input=False, X_idx_sorted=X_idx_sorted)\n\u001b[0m\u001b[1;32m    788\u001b[0m \u001b[0;34m\u001b[0m\u001b[0m\n\u001b[1;32m    789\u001b[0m             \u001b[0;31m# update tree leaves\u001b[0m\u001b[0;34m\u001b[0m\u001b[0;34m\u001b[0m\u001b[0m\n",
      "\u001b[0;32m/Users/MEG/anaconda/lib/python2.7/site-packages/sklearn/tree/tree.pyc\u001b[0m in \u001b[0;36mfit\u001b[0;34m(self, X, y, sample_weight, check_input, X_idx_sorted)\u001b[0m\n\u001b[1;32m   1027\u001b[0m             \u001b[0msample_weight\u001b[0m\u001b[0;34m=\u001b[0m\u001b[0msample_weight\u001b[0m\u001b[0;34m,\u001b[0m\u001b[0;34m\u001b[0m\u001b[0m\n\u001b[1;32m   1028\u001b[0m             \u001b[0mcheck_input\u001b[0m\u001b[0;34m=\u001b[0m\u001b[0mcheck_input\u001b[0m\u001b[0;34m,\u001b[0m\u001b[0;34m\u001b[0m\u001b[0m\n\u001b[0;32m-> 1029\u001b[0;31m             X_idx_sorted=X_idx_sorted)\n\u001b[0m\u001b[1;32m   1030\u001b[0m         \u001b[0;32mreturn\u001b[0m \u001b[0mself\u001b[0m\u001b[0;34m\u001b[0m\u001b[0m\n\u001b[1;32m   1031\u001b[0m \u001b[0;34m\u001b[0m\u001b[0m\n",
      "\u001b[0;32m/Users/MEG/anaconda/lib/python2.7/site-packages/sklearn/tree/tree.pyc\u001b[0m in \u001b[0;36mfit\u001b[0;34m(self, X, y, sample_weight, check_input, X_idx_sorted)\u001b[0m\n\u001b[1;32m    348\u001b[0m                                            self.min_impurity_split)\n\u001b[1;32m    349\u001b[0m \u001b[0;34m\u001b[0m\u001b[0m\n\u001b[0;32m--> 350\u001b[0;31m         \u001b[0mbuilder\u001b[0m\u001b[0;34m.\u001b[0m\u001b[0mbuild\u001b[0m\u001b[0;34m(\u001b[0m\u001b[0mself\u001b[0m\u001b[0;34m.\u001b[0m\u001b[0mtree_\u001b[0m\u001b[0;34m,\u001b[0m \u001b[0mX\u001b[0m\u001b[0;34m,\u001b[0m \u001b[0my\u001b[0m\u001b[0;34m,\u001b[0m \u001b[0msample_weight\u001b[0m\u001b[0;34m,\u001b[0m \u001b[0mX_idx_sorted\u001b[0m\u001b[0;34m)\u001b[0m\u001b[0;34m\u001b[0m\u001b[0m\n\u001b[0m\u001b[1;32m    351\u001b[0m \u001b[0;34m\u001b[0m\u001b[0m\n\u001b[1;32m    352\u001b[0m         \u001b[0;32mif\u001b[0m \u001b[0mself\u001b[0m\u001b[0;34m.\u001b[0m\u001b[0mn_outputs_\u001b[0m \u001b[0;34m==\u001b[0m \u001b[0;36m1\u001b[0m\u001b[0;34m:\u001b[0m\u001b[0;34m\u001b[0m\u001b[0m\n",
      "\u001b[0;31mKeyboardInterrupt\u001b[0m: "
     ],
     "output_type": "error"
    }
   ],
   "source": [
    "# choose min_sample_splits\n",
    "min_sample_splits = range(2, 20, 2)\n",
    "for m in min_sample_splits:\n",
    "#     print estimator\n",
    "    model = GradientBoostingRegressor(n_estimators = 500, learning_rate=0.1, min_samples_split=m, min_samples_leaf=50,\n",
    "                                                               max_depth=None, max_features='sqrt',subsample=0.8,random_state=10)\n",
    "\n",
    "    print m, cv_fit_pred(model, 10, train_feature, train_target)\n",
    "# choose 2"
   ]
  },
  {
   "cell_type": "code",
   "execution_count": 196,
   "metadata": {
    "collapsed": false
   },
   "outputs": [
    {
     "name": "stdout",
     "output_type": "stream",
     "text": [
      " 2 0.462498921713\n",
      "4"
     ]
    },
    {
     "ename": "KeyboardInterrupt",
     "evalue": "",
     "traceback": [
      "\u001b[0;31m---------------------------------------------------------------------------\u001b[0m",
      "\u001b[0;31mKeyboardInterrupt\u001b[0m                         Traceback (most recent call last)",
      "\u001b[0;32m<ipython-input-196-7ef4ff369b96>\u001b[0m in \u001b[0;36m<module>\u001b[0;34m()\u001b[0m\n\u001b[1;32m      5\u001b[0m                                                                max_depth=None, max_features='sqrt',subsample=0.8,random_state=10)\n\u001b[1;32m      6\u001b[0m \u001b[0;34m\u001b[0m\u001b[0m\n\u001b[0;32m----> 7\u001b[0;31m     \u001b[0;32mprint\u001b[0m \u001b[0mm\u001b[0m\u001b[0;34m,\u001b[0m \u001b[0mcv_fit_pred\u001b[0m\u001b[0;34m(\u001b[0m\u001b[0mmodel\u001b[0m\u001b[0;34m,\u001b[0m \u001b[0;36m10\u001b[0m\u001b[0;34m,\u001b[0m \u001b[0mtrain_feature\u001b[0m\u001b[0;34m,\u001b[0m \u001b[0mtrain_target\u001b[0m\u001b[0;34m)\u001b[0m\u001b[0;34m\u001b[0m\u001b[0m\n\u001b[0m\u001b[1;32m      8\u001b[0m \u001b[0;31m# choose 2\u001b[0m\u001b[0;34m\u001b[0m\u001b[0;34m\u001b[0m\u001b[0m\n",
      "\u001b[0;32m<ipython-input-67-57af24e23c93>\u001b[0m in \u001b[0;36mcv_fit_pred\u001b[0;34m(model, fold, train_feature, train_target)\u001b[0m\n\u001b[1;32m      6\u001b[0m         \u001b[0my_train\u001b[0m\u001b[0;34m,\u001b[0m \u001b[0my_test\u001b[0m \u001b[0;34m=\u001b[0m \u001b[0mtrain_target\u001b[0m\u001b[0;34m[\u001b[0m\u001b[0mtrain_index\u001b[0m\u001b[0;34m]\u001b[0m\u001b[0;34m,\u001b[0m \u001b[0mtrain_target\u001b[0m\u001b[0;34m[\u001b[0m\u001b[0mtest_index\u001b[0m\u001b[0;34m]\u001b[0m\u001b[0;34m\u001b[0m\u001b[0m\n\u001b[1;32m      7\u001b[0m     \u001b[0;31m#     print np.shape(X_train), np.shape(X_test), np.shape(y_train)\u001b[0m\u001b[0;34m\u001b[0m\u001b[0;34m\u001b[0m\u001b[0m\n\u001b[0;32m----> 8\u001b[0;31m         \u001b[0mmodel\u001b[0m\u001b[0;34m.\u001b[0m\u001b[0mfit\u001b[0m\u001b[0;34m(\u001b[0m\u001b[0mX_train\u001b[0m\u001b[0;34m,\u001b[0m \u001b[0my_train\u001b[0m\u001b[0;34m)\u001b[0m\u001b[0;34m\u001b[0m\u001b[0m\n\u001b[0m\u001b[1;32m      9\u001b[0m         \u001b[0mpred\u001b[0m \u001b[0;34m=\u001b[0m \u001b[0mmodel\u001b[0m\u001b[0;34m.\u001b[0m\u001b[0mpredict\u001b[0m\u001b[0;34m(\u001b[0m\u001b[0mX_test\u001b[0m\u001b[0;34m)\u001b[0m\u001b[0;34m\u001b[0m\u001b[0m\n\u001b[1;32m     10\u001b[0m         \u001b[0mpred\u001b[0m \u001b[0;34m=\u001b[0m \u001b[0;34m[\u001b[0m\u001b[0;36m0\u001b[0m \u001b[0;32mif\u001b[0m \u001b[0mi\u001b[0m \u001b[0;34m<\u001b[0m \u001b[0;36m0\u001b[0m \u001b[0;32melse\u001b[0m \u001b[0mi\u001b[0m \u001b[0;32mfor\u001b[0m \u001b[0mi\u001b[0m \u001b[0;32min\u001b[0m \u001b[0mpred\u001b[0m\u001b[0;34m]\u001b[0m\u001b[0;34m\u001b[0m\u001b[0m\n",
      "\u001b[0;32m/Users/MEG/anaconda/lib/python2.7/site-packages/sklearn/ensemble/gradient_boosting.pyc\u001b[0m in \u001b[0;36mfit\u001b[0;34m(self, X, y, sample_weight, monitor)\u001b[0m\n\u001b[1;32m   1026\u001b[0m         \u001b[0;31m# fit the boosting stages\u001b[0m\u001b[0;34m\u001b[0m\u001b[0;34m\u001b[0m\u001b[0m\n\u001b[1;32m   1027\u001b[0m         n_stages = self._fit_stages(X, y, y_pred, sample_weight, random_state,\n\u001b[0;32m-> 1028\u001b[0;31m                                     begin_at_stage, monitor, X_idx_sorted)\n\u001b[0m\u001b[1;32m   1029\u001b[0m         \u001b[0;31m# change shape of arrays after fit (early-stopping or additional ests)\u001b[0m\u001b[0;34m\u001b[0m\u001b[0;34m\u001b[0m\u001b[0m\n\u001b[1;32m   1030\u001b[0m         \u001b[0;32mif\u001b[0m \u001b[0mn_stages\u001b[0m \u001b[0;34m!=\u001b[0m \u001b[0mself\u001b[0m\u001b[0;34m.\u001b[0m\u001b[0mestimators_\u001b[0m\u001b[0;34m.\u001b[0m\u001b[0mshape\u001b[0m\u001b[0;34m[\u001b[0m\u001b[0;36m0\u001b[0m\u001b[0;34m]\u001b[0m\u001b[0;34m:\u001b[0m\u001b[0;34m\u001b[0m\u001b[0m\n",
      "\u001b[0;32m/Users/MEG/anaconda/lib/python2.7/site-packages/sklearn/ensemble/gradient_boosting.pyc\u001b[0m in \u001b[0;36m_fit_stages\u001b[0;34m(self, X, y, y_pred, sample_weight, random_state, begin_at_stage, monitor, X_idx_sorted)\u001b[0m\n\u001b[1;32m   1081\u001b[0m             y_pred = self._fit_stage(i, X, y, y_pred, sample_weight,\n\u001b[1;32m   1082\u001b[0m                                      \u001b[0msample_mask\u001b[0m\u001b[0;34m,\u001b[0m \u001b[0mrandom_state\u001b[0m\u001b[0;34m,\u001b[0m \u001b[0mX_idx_sorted\u001b[0m\u001b[0;34m,\u001b[0m\u001b[0;34m\u001b[0m\u001b[0m\n\u001b[0;32m-> 1083\u001b[0;31m                                      X_csc, X_csr)\n\u001b[0m\u001b[1;32m   1084\u001b[0m \u001b[0;34m\u001b[0m\u001b[0m\n\u001b[1;32m   1085\u001b[0m             \u001b[0;31m# track deviance (= loss)\u001b[0m\u001b[0;34m\u001b[0m\u001b[0;34m\u001b[0m\u001b[0m\n",
      "\u001b[0;32m/Users/MEG/anaconda/lib/python2.7/site-packages/sklearn/ensemble/gradient_boosting.pyc\u001b[0m in \u001b[0;36m_fit_stage\u001b[0;34m(self, i, X, y, y_pred, sample_weight, sample_mask, random_state, X_idx_sorted, X_csc, X_csr)\u001b[0m\n\u001b[1;32m    785\u001b[0m             \u001b[0;32melse\u001b[0m\u001b[0;34m:\u001b[0m\u001b[0;34m\u001b[0m\u001b[0m\n\u001b[1;32m    786\u001b[0m                 tree.fit(X, residual, sample_weight=sample_weight,\n\u001b[0;32m--> 787\u001b[0;31m                          check_input=False, X_idx_sorted=X_idx_sorted)\n\u001b[0m\u001b[1;32m    788\u001b[0m \u001b[0;34m\u001b[0m\u001b[0m\n\u001b[1;32m    789\u001b[0m             \u001b[0;31m# update tree leaves\u001b[0m\u001b[0;34m\u001b[0m\u001b[0;34m\u001b[0m\u001b[0m\n",
      "\u001b[0;32m/Users/MEG/anaconda/lib/python2.7/site-packages/sklearn/tree/tree.pyc\u001b[0m in \u001b[0;36mfit\u001b[0;34m(self, X, y, sample_weight, check_input, X_idx_sorted)\u001b[0m\n\u001b[1;32m   1027\u001b[0m             \u001b[0msample_weight\u001b[0m\u001b[0;34m=\u001b[0m\u001b[0msample_weight\u001b[0m\u001b[0;34m,\u001b[0m\u001b[0;34m\u001b[0m\u001b[0m\n\u001b[1;32m   1028\u001b[0m             \u001b[0mcheck_input\u001b[0m\u001b[0;34m=\u001b[0m\u001b[0mcheck_input\u001b[0m\u001b[0;34m,\u001b[0m\u001b[0;34m\u001b[0m\u001b[0m\n\u001b[0;32m-> 1029\u001b[0;31m             X_idx_sorted=X_idx_sorted)\n\u001b[0m\u001b[1;32m   1030\u001b[0m         \u001b[0;32mreturn\u001b[0m \u001b[0mself\u001b[0m\u001b[0;34m\u001b[0m\u001b[0m\n\u001b[1;32m   1031\u001b[0m \u001b[0;34m\u001b[0m\u001b[0m\n",
      "\u001b[0;32m/Users/MEG/anaconda/lib/python2.7/site-packages/sklearn/tree/tree.pyc\u001b[0m in \u001b[0;36mfit\u001b[0;34m(self, X, y, sample_weight, check_input, X_idx_sorted)\u001b[0m\n\u001b[1;32m    348\u001b[0m                                            self.min_impurity_split)\n\u001b[1;32m    349\u001b[0m \u001b[0;34m\u001b[0m\u001b[0m\n\u001b[0;32m--> 350\u001b[0;31m         \u001b[0mbuilder\u001b[0m\u001b[0;34m.\u001b[0m\u001b[0mbuild\u001b[0m\u001b[0;34m(\u001b[0m\u001b[0mself\u001b[0m\u001b[0;34m.\u001b[0m\u001b[0mtree_\u001b[0m\u001b[0;34m,\u001b[0m \u001b[0mX\u001b[0m\u001b[0;34m,\u001b[0m \u001b[0my\u001b[0m\u001b[0;34m,\u001b[0m \u001b[0msample_weight\u001b[0m\u001b[0;34m,\u001b[0m \u001b[0mX_idx_sorted\u001b[0m\u001b[0;34m)\u001b[0m\u001b[0;34m\u001b[0m\u001b[0m\n\u001b[0m\u001b[1;32m    351\u001b[0m \u001b[0;34m\u001b[0m\u001b[0m\n\u001b[1;32m    352\u001b[0m         \u001b[0;32mif\u001b[0m \u001b[0mself\u001b[0m\u001b[0;34m.\u001b[0m\u001b[0mn_outputs_\u001b[0m \u001b[0;34m==\u001b[0m \u001b[0;36m1\u001b[0m\u001b[0;34m:\u001b[0m\u001b[0;34m\u001b[0m\u001b[0m\n",
      "\u001b[0;31mKeyboardInterrupt\u001b[0m: "
     ],
     "output_type": "error"
    }
   ],
   "source": [
    "min_sample_leafs = range(2, 20, 2)\n",
    "for m in min_sample_leafs:\n",
    "#     print estimator\n",
    "    model = GradientBoostingRegressor(n_estimators = 200, learning_rate=0.1, min_samples_split=2,min_samples_leaf=m,\n",
    "                                                               max_depth=None, max_features='sqrt',subsample=0.8,random_state=10)\n",
    "\n",
    "    print m, cv_fit_pred(model, 10, train_feature, train_target)\n",
    "# choose 2"
   ]
  },
  {
   "cell_type": "markdown",
   "metadata": {},
   "source": [
    "#### Final model Parameters: n_estimators = 500, learning_rate=0.1, min_samples_split=2,min_samples_leaf=2, max_depth=None, max_features='sqrt',subsample=0.8,random_state=10"
   ]
  },
  {
   "cell_type": "code",
   "execution_count": 191,
   "metadata": {
    "collapsed": false
   },
   "outputs": [
    {
     "name": "stdout",
     "output_type": "stream",
     "text": [
      "cross-validation RMLSE for training set 0.466102301091\n",
      "RMLSE for testing data:  0.497397969265\n"
     ]
    }
   ],
   "source": [
    "model = GradientBoostingRegressor(n_estimators = 200, learning_rate=0.1, min_samples_split=2,min_samples_leaf=2,\n",
    "                                                               max_depth=None, max_features='sqrt',subsample=0.8,random_state=200)\n",
    "print \"cross-validation RMLSE for training set\", cv_fit_pred(model, 10, train_feature, train_target)\n",
    "\n",
    "pred = model.predict(test_feature)\n",
    "pred = [0 if i < 0 else i for i in pred]\n",
    "print \"RMLSE for testing data: \",cal_rmlse(pred, test_target)"
   ]
  },
  {
   "cell_type": "markdown",
   "metadata": {},
   "source": [
    "### Model 4: XGBoost"
   ]
  },
  {
   "cell_type": "code",
   "execution_count": 139,
   "metadata": {
    "collapsed": false
   },
   "outputs": [],
   "source": [
    "def xgb_fit_pred(args):\n",
    "    start = datetime.now()\n",
    "    print('\\nStart reading data')\n",
    "    dtrain_full = xgb.DMatrix(train_feature_encode, label = train_target_encode)\n",
    "    \n",
    "    print 'Start training'\n",
    "    kf = KFold(ntrain, n_folds=NFOLDS, shuffle=True, random_state=200)\n",
    "    for i, (train_index, test_index) in enumerate(kf):\n",
    "        fold_start = datetime.now()\n",
    "        print 'Fold %d' % (i+1)\n",
    "        X_train, X_val = train_feature_encode.iloc[train_index], train_feature_encode.iloc[test_index]\n",
    "        y_train, y_val = train_target_encode[train_index], train_target_encode[test_index]\n",
    "        \n",
    "        cv_score = 0\n",
    "        for j in xrange(args['n_bags'])\n",
    "        bag_start = datetime.now()\n",
    "        print 'Bag %d' % (j+1)\n",
    "        params = {\n",
    "                'seed': (i*10 + j*33 + 6),\n",
    "                'colsample_bytree': args['colsample_bytree'],\n",
    "                'silent': 1,\n",
    "                'subsample': args['subsample'],\n",
    "                'learning_rate': args['eta'],\n",
    "                'max_depth': args['max_depth'],\n",
    "                'min_child_weight': args['min_child_weight'],\n",
    "                'gamma': args['gamma'],\n",
    "                'objective': 'multi:softprob',\n",
    "                'num_class': 10,\n",
    "#                 'eval_metric': 'mlogloss',\n",
    "                'booster': 'gbtree'}\n",
    "        \n",
    "        d_train = xgb.DMatrix(X_train, label = y_train)\n",
    "        d_valid = xgb.DMatrix(X_val, label = y_val)\n",
    "        watchlist = [(d_train, 'train'), (d_valid, 'eval')]\n",
    "        \n",
    "        clf = xgb.train(params, d_train, 100000, watchlist, feval=cal_rmlse, maximize=False, early_stopping_rounds=60)\n",
    "        \n",
    "        pred = clf.predict(d_valid, ntree_limit = clf.best_ntree_limit)\n",
    "        bag_score = cal_rmlse(pred, y_val)\n",
    "        print 'fold-' + str(i+1) + '-bag-' + str(j+1) + '-rmlse: %.6f' % bag_score"
   ]
  },
  {
   "cell_type": "markdown",
   "metadata": {},
   "source": [
    "### Predicting Testing Data\n"
   ]
  },
  {
   "cell_type": "code",
   "execution_count": 27,
   "metadata": {
    "collapsed": false
   },
   "outputs": [
    {
     "name": "stdout",
     "output_type": "stream",
     "text": [
      "                     season  holiday  workingday  weather  temp   atemp  \\\n",
      "datetime                                                                  \n",
      "2011-01-01 00:00:00       1        0           0        1  9.84  14.395   \n",
      "2011-01-01 01:00:00       1        0           0        1  9.02  13.635   \n",
      "2011-01-01 02:00:00       1        0           0        1  9.02  13.635   \n",
      "2011-01-01 03:00:00       1        0           0        1  9.84  14.395   \n",
      "2011-01-01 04:00:00       1        0           0        1  9.84  14.395   \n",
      "\n",
      "                     humidity  windspeed  casual  registered  count  year  \\\n",
      "datetime                                                                    \n",
      "2011-01-01 00:00:00        81        0.0       3          13     16  2011   \n",
      "2011-01-01 01:00:00        80        0.0       8          32     40  2011   \n",
      "2011-01-01 02:00:00        80        0.0       5          27     32  2011   \n",
      "2011-01-01 03:00:00        75        0.0       3          10     13  2011   \n",
      "2011-01-01 04:00:00        75        0.0       0           1      1  2011   \n",
      "\n",
      "                     month  day  hour  weekday  \n",
      "datetime                                        \n",
      "2011-01-01 00:00:00      1    1     0        5  \n",
      "2011-01-01 01:00:00      1    1     1        5  \n",
      "2011-01-01 02:00:00      1    1     2        5  \n",
      "2011-01-01 03:00:00      1    1     3        5  \n",
      "2011-01-01 04:00:00      1    1     4        5   (10886, 16)\n",
      "                     season  holiday  workingday  weather   temp   atemp  \\\n",
      "datetime                                                                   \n",
      "2011-01-20 00:00:00       1        0           1        1  10.66  11.365   \n",
      "2011-01-20 01:00:00       1        0           1        1  10.66  13.635   \n",
      "2011-01-20 02:00:00       1        0           1        1  10.66  13.635   \n",
      "2011-01-20 03:00:00       1        0           1        1  10.66  12.880   \n",
      "2011-01-20 04:00:00       1        0           1        1  10.66  12.880   \n",
      "\n",
      "                     humidity  windspeed  year  month  day  hour  weekday  \n",
      "datetime                                                                   \n",
      "2011-01-20 00:00:00        56    26.0027  2011      1   20     0        3  \n",
      "2011-01-20 01:00:00        56     0.0000  2011      1   20     1        3  \n",
      "2011-01-20 02:00:00        56     0.0000  2011      1   20     2        3  \n",
      "2011-01-20 03:00:00        56    11.0014  2011      1   20     3        3  \n",
      "2011-01-20 04:00:00        56    11.0014  2011      1   20     4        3   (6493, 13)\n"
     ]
    }
   ],
   "source": [
    "train_df = pd.read_csv(\"train.csv\")\n",
    "test_df = pd.read_csv(\"test.csv\")\n",
    "train_dt= pd.to_datetime(train_df[\"datetime\"])\n",
    "test_dt = pd.to_datetime(test_df[\"datetime\"])\n",
    "train_df[\"year\"] = train_dt.map(lambda x: x.year) \n",
    "train_df[\"month\"] = train_dt.map(lambda x: x.month)\n",
    "train_df[\"day\"] = train_dt.map(lambda x: x.day)\n",
    "train_df[\"hour\"] = train_dt.map(lambda x: x.hour)\n",
    "train_df[\"weekday\"] = train_dt.map(lambda x: x.weekday())\n",
    "test_df[\"year\"] = test_dt.map(lambda x: x.year) \n",
    "test_df[\"month\"] = test_dt.map(lambda x: x.month)\n",
    "test_df[\"day\"] = test_dt.map(lambda x: x.day)\n",
    "test_df[\"hour\"] = test_dt.map(lambda x: x.hour)\n",
    "test_df[\"weekday\"] = test_dt.map(lambda x: x.weekday())\n",
    "\n",
    "train_df.set_index([\"datetime\"], inplace=True)\n",
    "test_df.set_index([\"datetime\"], inplace=True)\n",
    "print train_df.head(), train_df.shape\n",
    "print test_df.head(), test_df.shape"
   ]
  },
  {
   "cell_type": "code",
   "execution_count": 28,
   "metadata": {
    "collapsed": false
   },
   "outputs": [
    {
     "name": "stdout",
     "output_type": "stream",
     "text": [
      "                     season  holiday  workingday  weather   atemp  humidity  \\\n",
      "datetime                                                                      \n",
      "2011-01-20 00:00:00       1        0           1        1  11.365        56   \n",
      "2011-01-20 01:00:00       1        0           1        1  13.635        56   \n",
      "2011-01-20 02:00:00       1        0           1        1  13.635        56   \n",
      "\n",
      "                     windspeed  year  month  day  hour  \n",
      "datetime                                                \n",
      "2011-01-20 00:00:00    26.0027  2011      1   20     0  \n",
      "2011-01-20 01:00:00     0.0000  2011      1   20     1  \n",
      "2011-01-20 02:00:00     0.0000  2011      1   20     2  \n",
      "                     season  holiday  workingday  weather   atemp  humidity  \\\n",
      "datetime                                                                      \n",
      "2011-01-01 00:00:00       1        0           0        1  14.395        81   \n",
      "2011-01-01 01:00:00       1        0           0        1  13.635        80   \n",
      "2011-01-01 02:00:00       1        0           0        1  13.635        80   \n",
      "\n",
      "                     windspeed  count  year  month  day  hour  \n",
      "datetime                                                       \n",
      "2011-01-01 00:00:00        0.0     16  2011      1    1     0  \n",
      "2011-01-01 01:00:00        0.0     40  2011      1    1     1  \n",
      "2011-01-01 02:00:00        0.0     32  2011      1    1     2  \n"
     ]
    }
   ],
   "source": [
    "test_features = test_df.drop(['weekday', 'temp'],axis = 1) # include all features and target\n",
    "print test_features.head(3) # features for testing model\n",
    "train_all= train_df.drop(['weekday', 'temp', 'registered', 'casual'],axis = 1) # include all features and target\n",
    "train_features = train_df.drop(['weekday', 'temp', 'registered', 'casual', 'count'],axis = 1)\n",
    "print train_all.head(3) # features for testing model"
   ]
  },
  {
   "cell_type": "code",
   "execution_count": 29,
   "metadata": {
    "collapsed": false
   },
   "outputs": [
    {
     "name": "stdout",
     "output_type": "stream",
     "text": [
      "(10886, 11) (10886, 16) (6493, 11)\n"
     ]
    }
   ],
   "source": [
    "train_df_features = train_df.drop(['weekday', 'temp', 'registered', 'casual','count'], axis=1)\n",
    "test_df =  test_df.drop(['weekday', 'temp'], axis=1)\n",
    "print train_df_features.shape, train_df.shape, test_df.shape"
   ]
  },
  {
   "cell_type": "code",
   "execution_count": 30,
   "metadata": {
    "collapsed": false
   },
   "outputs": [
    {
     "name": "stdout",
     "output_type": "stream",
     "text": [
      "Index([u'season', u'holiday', u'workingday', u'weather', u'atemp', u'humidity',\n",
      "       u'windspeed', u'year', u'month', u'day', u'hour'],\n",
      "      dtype='object')\n",
      "Index([u'season', u'holiday', u'workingday', u'weather', u'atemp', u'humidity',\n",
      "       u'windspeed', u'year', u'month', u'day', u'hour'],\n",
      "      dtype='object')\n"
     ]
    }
   ],
   "source": [
    "print train_df_features.columns\n",
    "print test_df.columns"
   ]
  },
  {
   "cell_type": "code",
   "execution_count": 31,
   "metadata": {
    "collapsed": false
   },
   "outputs": [],
   "source": [
    "year = [\"2011\", \"2012\"]\n",
    "month = [\"01\", \"02\", \"03\", \"04\", \"05\", \"06\", \"07\", \"08\", \"09\", \"10\", \"11\", \"12\", \"13\"]\n",
    "predictions = []\n",
    "for yr in year:\n",
    "    for idx in range(len(month)-1):\n",
    "        start = yr + \"-\" + month[idx]\n",
    "        end = yr + \"-\" + month[idx+1]\n",
    "        gbm0.fit(train_df_features[:end].values, train_df[:end][\"count\"])\n",
    "#         print test_df[start:end].values\n",
    "        pred = gbm0.predict(test_df[start:end].values)\n",
    "        predictions.append(pred)"
   ]
  },
  {
   "cell_type": "code",
   "execution_count": null,
   "metadata": {
    "collapsed": true
   },
   "outputs": [],
   "source": [
    "temp = predictions"
   ]
  },
  {
   "cell_type": "code",
   "execution_count": null,
   "metadata": {
    "collapsed": false
   },
   "outputs": [],
   "source": [
    "count_lst = [int(item) for sublist in temp for item in sublist]\n",
    "# count_lst[count_lst<0] = 0\n",
    "count_lst = [0 if i < 0 else i for i in count_lst ]"
   ]
  },
  {
   "cell_type": "code",
   "execution_count": null,
   "metadata": {
    "collapsed": false
   },
   "outputs": [],
   "source": [
    "test_df['count'] = count_lst\n",
    "test_df.reset_index(inplace = True)"
   ]
  },
  {
   "cell_type": "code",
   "execution_count": null,
   "metadata": {
    "collapsed": false
   },
   "outputs": [],
   "source": [
    "test_df.head()"
   ]
  },
  {
   "cell_type": "code",
   "execution_count": null,
   "metadata": {
    "collapsed": false
   },
   "outputs": [],
   "source": [
    "test_df[['datetime', 'count']].to_csv(\"gbm_prediction.csv\", index = False)"
   ]
  },
  {
   "cell_type": "code",
   "execution_count": null,
   "metadata": {
    "collapsed": true
   },
   "outputs": [],
   "source": [
    ""
   ]
  }
 ],
 "metadata": {
  "anaconda-cloud": {},
  "kernelspec": {
   "display_name": "Python 2",
   "language": "python",
   "name": "python2"
  },
  "language_info": {
   "codemirror_mode": {
    "name": "ipython",
    "version": 2.0
   },
   "file_extension": ".py",
   "mimetype": "text/x-python",
   "name": "python",
   "nbconvert_exporter": "python",
   "pygments_lexer": "ipython2",
   "version": "2.7.13"
  }
 },
 "nbformat": 4,
 "nbformat_minor": 0
}